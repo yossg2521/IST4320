{
 "cells": [
  {
   "cell_type": "markdown",
   "metadata": {
    "id": "aKwd0_a-K9lr"
   },
   "source": [
    "Please go through the following in the text:\n",
    "- [Chapter 10 - Tuples](https://eng.libretexts.org/Bookshelves/Computer_Science/Book%3A_Python_for_Everybody_(Severance)/10%3A_Tuples)\n",
    "- [Chapter 11 - Regular Expressions](https://eng.libretexts.org/Bookshelves/Computer_Science/Book%3A_Python_for_Everybody_(Severance)/11%3A_Regular_Expressions)\n",
    "### Tuples and Regex\n",
    "#### Tuples"
   ]
  },
  {
   "cell_type": "code",
   "execution_count": null,
   "metadata": {
    "colab": {
     "base_uri": "https://localhost:8080/"
    },
    "executionInfo": {
     "elapsed": 273,
     "status": "ok",
     "timestamp": 1619028990326,
     "user": {
      "displayName": "Benjamin Becerra",
      "photoUrl": "",
      "userId": "08853271431683877596"
     },
     "user_tz": 420
    },
    "id": "C2HeneEjxIGK",
    "outputId": "cdb74968-1a7c-4622-e6aa-57a09c889c86"
   },
   "outputs": [],
   "source": [
    "# Using tuples!\n",
    "# You already saw this in the last activity.\n",
    "students = {'001234567': 'Generic Student', '009876543': 'Another Student', '000000001':'Cody Coyote'}\n",
    "\n",
    "# Do you see tuples in there? ('001234567', 'Generic Student')? Let's pull one out.\n",
    "first_dict_item = list(students.items())[0] # cast to list first to make it easier to pull out elements\n",
    "print(first_dict_item, \"\\nType:\", type(first_dict_item)) \n",
    "# Note: As of Python version 3.7, the list of items in a dictionary are the same as they were when you inserted the values.\n",
    "# Before, there would be no particular order (and it was honestly a little annoying)"
   ]
  },
  {
   "cell_type": "code",
   "execution_count": null,
   "metadata": {
    "colab": {
     "base_uri": "https://localhost:8080/"
    },
    "executionInfo": {
     "elapsed": 318,
     "status": "ok",
     "timestamp": 1619026671352,
     "user": {
      "displayName": "Benjamin Becerra",
      "photoUrl": "",
      "userId": "08853271431683877596"
     },
     "user_tz": 420
    },
    "id": "exRixX_fvclV",
    "outputId": "9a2d0ab2-072e-4bcd-e888-fcf0e644e00e"
   },
   "outputs": [],
   "source": [
    "# Tuples\n",
    "# These are similar to a list, except they are immutable! They are also hashable, so we can use them as key values in python dictionaries 😀\n",
    "# You can make a tuple in any way below\n",
    "tuple_example = 1,2,3,4,5 # separate values by commas with no brackets\n",
    "tuple_example2 = (10,7,8,9,6) # separate values by commas with parentheses\n",
    "\n",
    "# Cast string to tuple\n",
    "string2tuple = tuple(\"hey there\")\n",
    "print(\"Example of a string cast to tuple:\", string2tuple)\n",
    "\n",
    "# Cast entire string to one value of a tuple\n",
    "string2tuple2 = (\"hey there\",) #put a comma\n",
    "print(\"Example of an entire string cast to one value of a tuple:\", string2tuple2)\n",
    "\n",
    "# Cast list to tuple\n",
    "list2tuple = tuple([1, 3, 4, 7, 38])\n",
    "print(\"Example of a list cast to tuple:\", list2tuple)\n",
    "\n",
    "# You can do slicing and subsetting the same way as lists!\n",
    "print(\"Get a slice of the first 3 elements in a tuple:\", tuple_example[0:3])\n",
    "\n",
    "# And of course you can have more complicated structures, like tuples of tuples\n",
    "is_it_yummy = ((\"yuck\", \"mayo\"), (\"yummy\", \"mustard\"), (\"yuck\", \"tabasco\"), (\"yummy\", \"tapatio\"), (\"yuck\", \"mayonnaise\"), (\"yummy\", \"mayoketchup\"))\n",
    "print(\"Tuple of tuples:\", is_it_yummy)\n",
    "\n",
    "# Tuples are iterables too! 😀 but you knew that from using it earlier as a dictionary (key,value) pair\n",
    "for delicious, food in is_it_yummy: # for every tuple pair, such as (\"yuck\", \"mayo\"), in is_it_yummy, do the following:\n",
    "    print(\"What do I think about\", food, \"🤔...\", \"😜\"*(delicious==\"yuck\") + \"😋\"*(delicious==\"yummy\"))\n",
    "\n",
    "### Extra stuff: What is this thing doing? \"😜\"*(delicious==\"yuck\") + \"😋\"*(delicious==\"yummy\")\n",
    "# (delicious==\"yuck\") is either a True or False. If it was True...\n",
    "# \"😜\"*(True) + \"😋\"*(False)) = \"😜\"*(True) = \"😜\"\n",
    "# This is just one of many ways to do some quick code that is similar to an \"if\" statement\n"
   ]
  },
  {
   "cell_type": "code",
   "execution_count": null,
   "metadata": {
    "colab": {
     "base_uri": "https://localhost:8080/",
     "height": 184
    },
    "executionInfo": {
     "elapsed": 300,
     "status": "error",
     "timestamp": 1619024845995,
     "user": {
      "displayName": "Benjamin Becerra",
      "photoUrl": "",
      "userId": "08853271431683877596"
     },
     "user_tz": 420
    },
    "id": "r66VmfzNZoQF",
    "outputId": "b874d226-4485-4d9d-fb70-f526fdf5da65"
   },
   "outputs": [],
   "source": [
    "# Remember though, tuples cannot be changed! \n",
    "tuple_example[0] = 100 #this won't work!"
   ]
  },
  {
   "cell_type": "code",
   "execution_count": null,
   "metadata": {
    "colab": {
     "base_uri": "https://localhost:8080/"
    },
    "executionInfo": {
     "elapsed": 294,
     "status": "ok",
     "timestamp": 1619028219725,
     "user": {
      "displayName": "Benjamin Becerra",
      "photoUrl": "",
      "userId": "08853271431683877596"
     },
     "user_tz": 420
    },
    "id": "eUJrCI5Riq6W",
    "outputId": "8aacfac9-4215-42e2-8c38-5cf4b9562346"
   },
   "outputs": [],
   "source": [
    "# Useful! You can use a tuple to assign more than one variable at a time\n",
    "full_name = \"Ben Becerra\"\n",
    "first_name, last_name = full_name.split() # This string methods splits every word, default is by empty space \" \"\n",
    "print(\"First Name:\", first_name)\n",
    "print(\"Last Name:\", last_name)"
   ]
  },
  {
   "cell_type": "code",
   "execution_count": null,
   "metadata": {
    "colab": {
     "base_uri": "https://localhost:8080/"
    },
    "executionInfo": {
     "elapsed": 666,
     "status": "ok",
     "timestamp": 1619029948225,
     "user": {
      "displayName": "Benjamin Becerra",
      "photoUrl": "",
      "userId": "08853271431683877596"
     },
     "user_tz": 420
    },
    "id": "wNGemFeRhyTK",
    "outputId": "69fc1ecf-8f83-45eb-d683-4baa3220d94b"
   },
   "outputs": [],
   "source": [
    "# If tuples are immutable, how do I sort??\n",
    "# Use sorted() to create a new list of sorted elements 😀\n",
    "unsorted_tuple = (1000,-10,0,30)\n",
    "sorted_tuple = sorted(unsorted_tuple) #Try sorted(unsorted_tuple, reverse=True) for reverse order\n",
    "print(\"Before sorting:\", unsorted_tuple)\n",
    "print(\"After sorting:\", sorted_tuple) #oh this is a list. Did you want a tuple? Try tuple(sorted_tuple)"
   ]
  },
  {
   "cell_type": "markdown",
   "metadata": {},
   "source": [
    "#### Intro to Regular Expressions (RegEx) - Pattern Matching and Data Extraction!\n",
    "\n",
    "Regular expressions can look very complicated, and almost like learning ANOTHER language (it's all syntax though).There are four common functions: findall, search, split, sub\n",
    "combined with three levels of syntax: metacharacters, special sequences, character sets\n",
    "\n",
    "\n",
    "There's even MORE functions, but let's just stick to the basics. For MORE info, go to https://www.w3schools.com/python/python_regex.asp \n",
    "and https://docs.python.org/3/howto/regex.html#  It's a little overwhelming though..\n",
    "\n",
    "The goal of this lesson is an introduction to RegEx. After this lesson, we'll start using GenAI to help us write RegEx patterns. 🤖"
   ]
  },
  {
   "cell_type": "code",
   "execution_count": 8,
   "metadata": {
    "id": "rsZMeJ1ktYll"
   },
   "outputs": [],
   "source": [
    "import re  #import the regular expressions module\n",
    "random_text = \"The beauty of the sunset was obscured by the industrial cranes. 100 200 300 400\" #from https://randomwordgenerator.com/sentence.php 😀\n"
   ]
  },
  {
   "cell_type": "markdown",
   "metadata": {},
   "source": [
    "### the re.findall() function\n",
    "re.findall() to find and extract a whole word match\n"
   ]
  },
  {
   "cell_type": "code",
   "execution_count": null,
   "metadata": {
    "colab": {
     "base_uri": "https://localhost:8080/"
    },
    "executionInfo": {
     "elapsed": 262,
     "status": "ok",
     "timestamp": 1619178963734,
     "user": {
      "displayName": "Benjamin Becerra",
      "photoUrl": "",
      "userId": "08853271431683877596"
     },
     "user_tz": 420
    },
    "id": "UrvMwUiOyKT8",
    "outputId": "346235ce-e564-404a-ce20-ab636a631276"
   },
   "outputs": [],
   "source": [
    "sunset_match = re.findall(r\"sunset\", random_text) #why is there an 'r' in front of the string?\n",
    "# the 'r' is not always needed, but a good practice. Some RegEx syntax uses backslashes \\ which can also look like an \"escape character\"\n",
    "# Remember \\n ? That's an \"escape character\" to create a new line.\n",
    "print(\"Any matches to 'sunset'?\",sunset_match)\n",
    "\n",
    "### re.findall() with metacharacters (https://www.w3schools.com/python/python_regex.asp scroll down to Metacharacters)\n",
    "\n",
    "sunset_match2 = re.findall(r\"sunset|beauty\", random_text)\n",
    "print(\"Any matches to 'sunset' OR 'beauty'?\",sunset_match2)\n",
    "\n",
    "### re.findall() with character sets (https://www.w3schools.com/python/python_regex.asp scroll down to Sets)\n",
    "digits_only = re.findall(r\"[0-9]\", random_text)\n",
    "print(\"Any matches to digits only between 0-9?\", digits_only)\n",
    "\n",
    "### As you can notice, it gets complicated REAL quick. RegEx skills take time and practice to develop."
   ]
  },
  {
   "cell_type": "markdown",
   "metadata": {},
   "source": [
    "### The re.search() function\n",
    "re.search() to search for a whole word"
   ]
  },
  {
   "cell_type": "code",
   "execution_count": null,
   "metadata": {
    "colab": {
     "base_uri": "https://localhost:8080/"
    },
    "executionInfo": {
     "elapsed": 775,
     "status": "ok",
     "timestamp": 1619117096080,
     "user": {
      "displayName": "Benjamin Becerra",
      "photoUrl": "",
      "userId": "08853271431683877596"
     },
     "user_tz": 420
    },
    "id": "Elxnx0zYyOWi",
    "outputId": "7329bd7d-7bf7-4b2c-9042-43e18077bb86"
   },
   "outputs": [],
   "source": [
    "search_example = re.search(r\"sunset\", random_text)\n",
    "print(search_example) # What is this? a Match object?? \n",
    "# What does this object look like (i.e. attributes)? What can this object do (i.e. methods)?\n",
    "\n",
    "# remove the # comment sign to run the help() function and see all the methods available in the Match object\n",
    "#help(search_example)  # Oh! It can do a variety of things 😀 \n",
    "\n",
    "print(\"The start and end positions for 'sunset':\", search_example.span())\n",
    "\n",
    "# So just from these two functions alone, this could be useful for identifying WHERE the matches occurred in a string. "
   ]
  },
  {
   "cell_type": "markdown",
   "metadata": {},
   "source": [
    "### The re.split() function\n",
    "Split strings according to a particular match... more powerful than string method .split() since we can refine them with metacharacters, special sequences, and character sets"
   ]
  },
  {
   "cell_type": "code",
   "execution_count": null,
   "metadata": {
    "colab": {
     "base_uri": "https://localhost:8080/"
    },
    "executionInfo": {
     "elapsed": 543,
     "status": "ok",
     "timestamp": 1619181400244,
     "user": {
      "displayName": "Benjamin Becerra",
      "photoUrl": "",
      "userId": "08853271431683877596"
     },
     "user_tz": 420
    },
    "id": "n12IKQe2yRhZ",
    "outputId": "6c064945-5abf-437a-e58e-0df83727a3f0"
   },
   "outputs": [],
   "source": [
    "some_string = \"Hello%20everyone!&nbspHow%20are%20you?\"\n",
    "print(re.split(r\"%20|&nbsp\", some_string)) #This is using Metacharacters to refine our split.\n",
    "\n",
    "some_string2 = \"I'm$doing$well!\"\n",
    "print(re.split(r\"\\$\", some_string2)) #Special characters like $ may need a \\ to be processed correctly\n"
   ]
  },
  {
   "cell_type": "markdown",
   "metadata": {},
   "source": [
    "### The re.sub() function\n",
    "Substitute matches with another string"
   ]
  },
  {
   "cell_type": "code",
   "execution_count": null,
   "metadata": {
    "colab": {
     "base_uri": "https://localhost:8080/"
    },
    "executionInfo": {
     "elapsed": 337,
     "status": "ok",
     "timestamp": 1619120008623,
     "user": {
      "displayName": "Benjamin Becerra",
      "photoUrl": "",
      "userId": "08853271431683877596"
     },
     "user_tz": 420
    },
    "id": "Wh2rN74fyj58",
    "outputId": "21409e7e-d70c-4d85-941a-f7befb231de5"
   },
   "outputs": [],
   "source": [
    "sub_example = \"I really like pizza 🍔 and hamburgers 🍔\"\n",
    "print(\"Before:\", sub_example)\n",
    "sub_burger = re.sub(\"🍔\", \"🍕\", sub_example)\n",
    "print(\"Replace 🍔 with 🍕:\", sub_burger) # Hmm oops, don't replace ALL of them...\n",
    "sub_burger_1 = re.sub(\"🍔\", \"🍕\", sub_example, 1)\n",
    "print(\"Replace just ONE occurrence of 🍔 with 🍕:\", sub_burger_1)\n"
   ]
  },
  {
   "cell_type": "markdown",
   "metadata": {
    "id": "OTKvwSN4lHCG"
   },
   "source": [
    "### Tuples and RegEx - Activity"
   ]
  },
  {
   "cell_type": "code",
   "execution_count": null,
   "metadata": {},
   "outputs": [],
   "source": [
    "#1a - Create a tuple of the following numbers 1,2,3,4,5\n",
    "number1to5 = \n",
    "print(number1to5)\n",
    "\n",
    "#1b - Use this tuple as an iterable to show the squared terms instead. \n",
    "#Hmm, something isn't working... (hint it's a small review of 'for' loops) \n",
    "for value in number1to5:\n",
    "    print(number1to5**2) #something isn't working right.. fix it!🔨\n",
    "\n"
   ]
  },
  {
   "cell_type": "code",
   "execution_count": 25,
   "metadata": {},
   "outputs": [
    {
     "name": "stdout",
     "output_type": "stream",
     "text": [
      "(1, 2, 3, 4, 5)\n",
      "1\n",
      "4\n",
      "9\n",
      "16\n",
      "25\n"
     ]
    }
   ],
   "source": [
    "#1a \n",
    "number1to5 = (1,2,3,4,5)\n",
    "print(number1to5)\n",
    "#1b\n",
    "for value in number1to5:\n",
    "    print(value ** 2)"
   ]
  },
  {
   "cell_type": "code",
   "execution_count": null,
   "metadata": {
    "id": "N6F6ctNQm5x0"
   },
   "outputs": [],
   "source": [
    "#2 - I'm trying to split the following tuple into two separate lists... but I want it sorted first. Help me out 🙂\n",
    "year_value = ((2020,45),(1980,23),(2004,55),(1995,11))\n",
    "###Add ONE line here 😀\n",
    "\n",
    "###\n",
    "\n",
    "year_list = []\n",
    "value_list = []\n",
    "\n",
    "for year, value in year_value:\n",
    "    year_list.append(year)\n",
    "    value_list.append(value)\n",
    "\n",
    "print(year_list)\n",
    "print(value_list)\n",
    "\n",
    "# Note: The year and values should still correspond to the original order, like this:\n",
    "# [1980, 1995, 2004, 2020]\n",
    "# [23, 11, 55, 45]\n",
    "# Hint: sorted() creates a NEW object... might need to rename some stuff, or just overwrite the original..."
   ]
  },
  {
   "cell_type": "code",
   "execution_count": 5,
   "metadata": {},
   "outputs": [
    {
     "name": "stdout",
     "output_type": "stream",
     "text": [
      "[1980, 1995, 2004, 2020]\n",
      "[23, 11, 55, 45]\n"
     ]
    }
   ],
   "source": [
    "#2\n",
    "year_value = ((2020,45), (1980,23), (2004,55), (1995,11)) \n",
    "year_value = sorted(year_value)\n",
    "\n",
    "year_list = []\n",
    "value_list = []\n",
    "\n",
    "for year, value in year_value:\n",
    "    year_list.append(year)\n",
    "    value_list.append(value)\n",
    "\n",
    "print(year_list)\n",
    "print(value_list)"
   ]
  },
  {
   "cell_type": "code",
   "execution_count": null,
   "metadata": {
    "colab": {
     "base_uri": "https://localhost:8080/"
    },
    "executionInfo": {
     "elapsed": 312,
     "status": "ok",
     "timestamp": 1619181462503,
     "user": {
      "displayName": "Benjamin Becerra",
      "photoUrl": "",
      "userId": "08853271431683877596"
     },
     "user_tz": 420
    },
    "id": "FzcP5SUtn9x4",
    "outputId": "7c1ec849-b648-49fe-da13-ff66b2bfbccb"
   },
   "outputs": [],
   "source": [
    "#3 - Oops, it was supposed to be Jan Smith... can you replace with RegEx? \n",
    "import re\n",
    "messy_data = \"<id value='jan.sith.$D2019-12-01$T10:45:00Z-85354-9'/>\"\n",
    "\n"
   ]
  },
  {
   "cell_type": "code",
   "execution_count": 10,
   "metadata": {},
   "outputs": [
    {
     "name": "stdout",
     "output_type": "stream",
     "text": [
      "<id value='Jan.Smith.$D2019-12-01$T10:45:00Z-85354-9'/>\n"
     ]
    }
   ],
   "source": [
    "#3\n",
    "import re\n",
    "messy_data = \"<id value='jan.sith.$D2019-12-01$T10:45:00Z-85354-9'/>\"\n",
    "\n",
    "name_sub = re.sub('jan.sith', 'Jan.Smith', messy_data)\n",
    "print(name_sub)"
   ]
  },
  {
   "cell_type": "code",
   "execution_count": null,
   "metadata": {
    "colab": {
     "base_uri": "https://localhost:8080/",
     "height": 35
    },
    "executionInfo": {
     "elapsed": 264,
     "status": "ok",
     "timestamp": 1619181657128,
     "user": {
      "displayName": "Benjamin Becerra",
      "photoUrl": "",
      "userId": "08853271431683877596"
     },
     "user_tz": 420
    },
    "id": "b003BlgfvL0p",
    "outputId": "cea3efa8-759b-4f00-da5d-53cbdc5a53f7"
   },
   "outputs": [],
   "source": [
    "#4 - Can you also extract the date? \n",
    "messy_data = \"<id value='jan.sith.$D2019-12-01$T10:45:00Z-85354-9'/>\"\n",
    "#Hint: Take it one step at a time! Notice how there is a $ between the date? Try to split...\n",
    "#Hint: after splitting, look at the list you made... just select the correct item such as split_messy_data[1]\n",
    "\n",
    "split_messy_data = # First, complete the code to split\n",
    "\n",
    "#Then select the correct item\n",
    "\n",
    "\n",
    "#Optional: Remove the 'D' also 😀"
   ]
  },
  {
   "cell_type": "code",
   "execution_count": 24,
   "metadata": {},
   "outputs": [
    {
     "name": "stdout",
     "output_type": "stream",
     "text": [
      "2019-12-01\n"
     ]
    }
   ],
   "source": [
    "#4\n",
    "import re\n",
    "messy_data = \"<id value='jan.sith.$D2019-12-01$T10:45:00Z-85354-9'/>\"\n",
    "\n",
    "split_messy_data = re.split(r\"\\$\", messy_data)\n",
    "\n",
    "extract_date = split_messy_data[1][1:]\n",
    "print(extract_date)\n"
   ]
  },
  {
   "cell_type": "markdown",
   "metadata": {
    "id": "lGYOk9dSxxUF"
   },
   "source": [
    "Copyright Benjamin J. Becerra v2024.02.14.0"
   ]
  }
 ],
 "metadata": {
  "colab": {
   "authorship_tag": "ABX9TyMkG8v0tWzgweu+2dLIaDEQ",
   "collapsed_sections": [],
   "name": "IST 4320 - Activity 4",
   "provenance": [
    {
     "file_id": "1q97GFrrPp3hziPFu5ifOw42gxicEOOph",
     "timestamp": 1614703906533
    },
    {
     "file_id": "1BxfsP6eSV0WcCeKXubPjB_bPfeIlsrET",
     "timestamp": 1613752512311
    },
    {
     "file_id": "1AGXQ3YAP9M0bl4iWugCyI4hkEtbelsOf",
     "timestamp": 1612219576473
    }
   ]
  },
  "kernelspec": {
   "display_name": "Python 3 (ipykernel)",
   "language": "python",
   "name": "python3"
  },
  "language_info": {
   "codemirror_mode": {
    "name": "ipython",
    "version": 3
   },
   "file_extension": ".py",
   "mimetype": "text/x-python",
   "name": "python",
   "nbconvert_exporter": "python",
   "pygments_lexer": "ipython3",
   "version": "3.12.4"
  }
 },
 "nbformat": 4,
 "nbformat_minor": 4
}
