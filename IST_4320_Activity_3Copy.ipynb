{
 "cells": [
  {
   "cell_type": "markdown",
   "metadata": {
    "id": "aKwd0_a-K9lr"
   },
   "source": [
    "Please go through the following in the text:\n",
    "- [Chapter 8 - Lists](https://eng.libretexts.org/Bookshelves/Computer_Science/Book%3A_Python_for_Everybody_(Severance)/08%3A_Lists)\n",
    "- [Chapter 9 - Dictionaries](https://eng.libretexts.org/Bookshelves/Computer_Science/Book%3A_Python_for_Everybody_(Severance)/09%3A_Dictionaries)\n",
    "### Lists and Dictionaries\n",
    "#### Lists"
   ]
  },
  {
   "cell_type": "code",
   "execution_count": null,
   "metadata": {
    "colab": {
     "base_uri": "https://localhost:8080/"
    },
    "executionInfo": {
     "elapsed": 314,
     "status": "ok",
     "timestamp": 1616611202539,
     "user": {
      "displayName": "Benjamin Becerra",
      "photoUrl": "",
      "userId": "08853271431683877596"
     },
     "user_tz": 420
    },
    "id": "5_4rZnA1YCjm",
    "outputId": "a37a2e79-a031-4668-e417-c768a361e054"
   },
   "outputs": [],
   "source": [
    "# A list is a group of items together. You make them with square brackets...\n",
    "list_of_numbers = [1, 2, 3, 4, 5]\n",
    "list_of_strings = ['hello', 'there', 'how', 'are', 'you', 'doing']\n",
    "\n",
    "\n",
    "# You can access items in a list in the same way you would a string\n",
    "# First item uses index 0\n",
    "print(\"First item in list_of_numbers:\", list_of_numbers[0])\n",
    "print(\"First items in list_of_strings:\", list_of_strings[0])\n",
    "\n",
    "#Those fun tricks you learned from strings are here too 😀\n",
    "print(\"Reverse items in list_of_numbers:\", list_of_numbers[::-1])\n",
    "print(\"Slicing! First 2 items in list_of_strings\", list_of_strings[0:2]) #Notice how this still gives us another list, just a shorter one with only 2 items\n",
    "print(\"Is the number 3 in the list_of_numbers:\", 3 in list_of_numbers)\n",
    "print(\"Is the word 'today' in the list_of_strings:\", 'today' in list_of_strings)\n",
    "print(\"Concatenate (combine) two lists together:\", list_of_numbers + list_of_numbers)\n",
    "print(\"Make the list longer by a certain multiple (i.e. repeat 3 times):\", list_of_numbers * 3)"
   ]
  },
  {
   "cell_type": "code",
   "execution_count": null,
   "metadata": {
    "colab": {
     "base_uri": "https://localhost:8080/"
    },
    "executionInfo": {
     "elapsed": 617,
     "status": "ok",
     "timestamp": 1616611202848,
     "user": {
      "displayName": "Benjamin Becerra",
      "photoUrl": "",
      "userId": "08853271431683877596"
     },
     "user_tz": 420
    },
    "id": "RHsShPljE3Rw",
    "outputId": "8ab957c0-bd77-40cc-a279-cfc43d937644"
   },
   "outputs": [],
   "source": [
    "# Maybe you want to make a string from a list... try using join() with any delimiter (something you use to separate characters)\n",
    "\n",
    "# join together with a space ' '\n",
    "list_to_string_space = ' '.join(list_of_strings) #Note: join() is a string method\n",
    "print(list_to_string_space)\n",
    "# join together with a happy face '😀'\n",
    "list_to_string_happy = '😀'.join(list_of_strings)\n",
    "print(list_to_string_happy)"
   ]
  },
  {
   "cell_type": "code",
   "execution_count": 8,
   "metadata": {
    "colab": {
     "base_uri": "https://localhost:8080/"
    },
    "executionInfo": {
     "elapsed": 612,
     "status": "ok",
     "timestamp": 1616611202849,
     "user": {
      "displayName": "Benjamin Becerra",
      "photoUrl": "",
      "userId": "08853271431683877596"
     },
     "user_tz": 420
    },
    "id": "EwJKZ0a4HV2y",
    "outputId": "7974e8ac-a336-483f-e0c7-b146de8af167"
   },
   "outputs": [
    {
     "name": "stdout",
     "output_type": "stream",
     "text": [
      "['m', 'i', 'c', 'k', 'e', 'y']\n",
      "['pears,', 'apples,', 'oranges,', 'lychee,', 'ackee,', 'pawpaw']\n",
      "['pears', ' apples', ' oranges', ' lychee', ' ackee', ' pawpaw']\n"
     ]
    }
   ],
   "source": [
    "# Maybe you want to make a list from a string!\n",
    "# list(): Here's how to tokenize a string (data analytics/science definition: convert text into smaller pieces) into individual characters\n",
    "print(list('mickey'))\n",
    "\n",
    "# split(): Tokenize a string into words by specifying the delimiter (where to break into pieces). The default is an empty space ' '\n",
    "string_of_fruit = 'pears, apples, oranges, lychee, ackee, pawpaw'\n",
    "fruit_list = string_of_fruit.split()\n",
    "print(fruit_list) #oops no, I wanted to split where the comma ',' was\n",
    "fruit_list = string_of_fruit.split(',')\n",
    "print(fruit_list) #that's better :)"
   ]
  },
  {
   "cell_type": "code",
   "execution_count": null,
   "metadata": {
    "colab": {
     "base_uri": "https://localhost:8080/"
    },
    "executionInfo": {
     "elapsed": 607,
     "status": "ok",
     "timestamp": 1616611202849,
     "user": {
      "displayName": "Benjamin Becerra",
      "photoUrl": "",
      "userId": "08853271431683877596"
     },
     "user_tz": 420
    },
    "id": "1zde-N8gkg0R",
    "outputId": "3aa08109-7f05-4631-9e97-7020cc45c598"
   },
   "outputs": [],
   "source": [
    "# Interesting things about Lists\n",
    "# Unlike strings, a list is MUTABLE meaning it can be changed! \n",
    "some_list = ['Benjamin', 'Baccera']\n",
    "print(\"Misspelled!:\", some_list)\n",
    "#ooh misspelled the last name...😔 let's replace item 2 (remember it has index 1) with the correct name 🙂\n",
    "some_list[1] = 'Becerra'\n",
    "print(\"Correct spelling:\", some_list) #all better! 😀\n",
    "\n",
    "# Lists can have a mix of stuff... even other lists!\n",
    "mixed_list = [1, 2, 3, 'one', 'two', 'three']\n",
    "print(mixed_list)\n",
    "list_of_lists = [list_of_numbers, ['lol', 'wut'], list_of_strings]\n",
    "print(\"A list of lists!🤯:\", list_of_lists)"
   ]
  },
  {
   "cell_type": "code",
   "execution_count": null,
   "metadata": {
    "colab": {
     "base_uri": "https://localhost:8080/"
    },
    "executionInfo": {
     "elapsed": 601,
     "status": "ok",
     "timestamp": 1616611202851,
     "user": {
      "displayName": "Benjamin Becerra",
      "photoUrl": "",
      "userId": "08853271431683877596"
     },
     "user_tz": 420
    },
    "id": "qxFIrDeIoDSF",
    "outputId": "9bce906f-86d9-45d1-d5f6-e86de64de4a0"
   },
   "outputs": [],
   "source": [
    "# Reading items from a list\n",
    "# We know this already... but this time since we can have MORE stuff within a list, we might have multiple square brackets [][]\n",
    "lol_wut_list = list_of_lists[1] #The second item in list_of_lists is another list!\n",
    "print(lol_wut_list)\n",
    "lol_string = lol_wut_list[0] #The first item in lol_wut_list is a string!\n",
    "print(lol_string)\n",
    "o_string = lol_string[1] #The second item in lol_string is the string 'o'\n",
    "print(o_string)\n",
    "#Ok that was way too much work just to extract 'o'... what if we did it all at once from the original list_of_lists?? 😉\n",
    "print(\"2nd item, then 1st item, then 2nd item again... all at once!:\", list_of_lists[1][0][1])\n",
    "\n",
    "#Note: This is SUCH an annoying part of debugging code, because if you see list_of_lists[1][0][1] you might think 🤔🤨😫😖😤\n",
    "#Hint hint: start taking it apart and seeing where it's coming from... (coming up in an activity)"
   ]
  },
  {
   "cell_type": "code",
   "execution_count": null,
   "metadata": {
    "colab": {
     "base_uri": "https://localhost:8080/"
    },
    "executionInfo": {
     "elapsed": 597,
     "status": "ok",
     "timestamp": 1616611202852,
     "user": {
      "displayName": "Benjamin Becerra",
      "photoUrl": "",
      "userId": "08853271431683877596"
     },
     "user_tz": 420
    },
    "id": "yC_P9Hsyomri",
    "outputId": "e35d2b46-3e52-4859-b701-05f56e47a21f"
   },
   "outputs": [],
   "source": [
    "# Using a list as an iterable\n",
    "# Just a reminder from last lesson! We can use items in a list as an iterable using a for or while loop\n",
    "for items in list_of_numbers: #the word 'items' is just a placeholder for an iterable element... but it's good practice to keep it meaningful\n",
    "    print(items,\"squared is\",items**2)\n"
   ]
  },
  {
   "cell_type": "code",
   "execution_count": null,
   "metadata": {
    "colab": {
     "base_uri": "https://localhost:8080/"
    },
    "executionInfo": {
     "elapsed": 593,
     "status": "ok",
     "timestamp": 1616611202853,
     "user": {
      "displayName": "Benjamin Becerra",
      "photoUrl": "",
      "userId": "08853271431683877596"
     },
     "user_tz": 420
    },
    "id": "OyTfx6CTnMkJ",
    "outputId": "6d165724-4f6d-451d-dad5-4eff1a2f6ca4"
   },
   "outputs": [],
   "source": [
    "# List Methods\n",
    "# You may have seen this terminology before. A list is a type of \"object\" predefined in python, along with particular \"methods\" that do stuff\n",
    "# Let's use some here. These specifically modify your list and replace it with something else. \n",
    "\n",
    "### pop (not soda 🥤): Removes an item from the list by index number (default is last item).. you can save it for later if you want!\n",
    "pop_list = [\"soda\", \"coke\", \"pepsi\", \"thums up\", \"pop tarts\", \"squirt\"]\n",
    "print(\"Before using pop:\", pop_list)\n",
    "pop_save = pop_list.pop(4) # Let's remove the 5th item (index of 4)... and save it for later!\n",
    "print(\"After using pop:\", pop_list)\n",
    "print(\"Saved the popped item!:\", pop_save)\n",
    "#Did you not want to overwrite pop_list? oops... maybe try something not permanent like pop_list[0:4] + pop_list[5:]\n",
    "\n",
    "### append: Adds an element to the end of the list\n",
    "append_list = [\"hand\", \"leg\", \"head\", \"foot\"]\n",
    "print(\"Before using append:\", append_list)\n",
    "append_list.append('tail')\n",
    "print(\"After using append:\", append_list)\n",
    "#Did you not want to overwrite append_list? oops... Maybe try something like append_list + 'tail'\n",
    "\n",
    "### extend: combines two lists (same as + operator, AND it will overwrite one of your lists!)\n",
    "extend_list = [\"Monday\", \"Tuesday\", \"Wednesday\"]\n",
    "extra_days = [\"Thursday\", \"Friday\"]\n",
    "print(\"Before using extend:\", extend_list)\n",
    "extend_list.extend(extra_days)\n",
    "print(\"After using extend:\", extend_list)\n",
    "#Did you not want to overwrite extend_list? oops... Maybe try something like extend_list + extra_days\n",
    "\n",
    "# sort: rearranges your list from low to high (AND overwrites original list!)\n",
    "sort_me = [100, 39, 4, -10, 4]\n",
    "print(\"Before sort:\", sort_me)\n",
    "\n",
    "sort_me.sort()\n",
    "print(\"After sort:\", sort_me)\n",
    "#Did you not want to overwrite sort_me? oops... Maybe try something like the Python built-in function sorted() (it's not a list method)"
   ]
  },
  {
   "cell_type": "code",
   "execution_count": null,
   "metadata": {
    "colab": {
     "base_uri": "https://localhost:8080/"
    },
    "executionInfo": {
     "elapsed": 588,
     "status": "ok",
     "timestamp": 1616611202853,
     "user": {
      "displayName": "Benjamin Becerra",
      "photoUrl": "",
      "userId": "08853271431683877596"
     },
     "user_tz": 420
    },
    "id": "riLIX8Yh6Ywd",
    "outputId": "28bdabda-a6f7-4f8b-beeb-13b3612331ba"
   },
   "outputs": [],
   "source": [
    "# Some more helpful list methods...\n",
    "### del: deletes an element by index (but doesn't save it like pop). You can also cut out chunks of a list by slicing\n",
    "list_of_junk = ['hello', 'there', 'my', 'name', \"<base href='http://h4x0rlolol.com/gimme_ur_bitcoin.php'>\", 'is', 'ben','&nbsp','<br>','<p>','😇','%20']\n",
    "print(\"Before using del:\", list_of_junk)\n",
    "del list_of_junk[4] # the syntax is slightly different\n",
    "print(\"After using del for a single item:\", list_of_junk)\n",
    "del list_of_junk[6:9] # the syntax is slightly different\n",
    "print(\"After using del for a range of items:\", list_of_junk)\n",
    "\n",
    "### remove: deletes an element, but useful if you don't know the index (doesn't save it either)\n",
    "list_of_junk.remove('%20')\n",
    "print(\"After using remove:\", list_of_junk)"
   ]
  },
  {
   "cell_type": "code",
   "execution_count": null,
   "metadata": {
    "colab": {
     "base_uri": "https://localhost:8080/"
    },
    "executionInfo": {
     "elapsed": 582,
     "status": "ok",
     "timestamp": 1616611202853,
     "user": {
      "displayName": "Benjamin Becerra",
      "photoUrl": "",
      "userId": "08853271431683877596"
     },
     "user_tz": 420
    },
    "id": "GKowT2gQ-L3q",
    "outputId": "02870853-a6b2-49d3-85ab-8b007e5a7bda"
   },
   "outputs": [],
   "source": [
    "### Super useful functions of lists!\n",
    "# You'll be using lists all. the. time. so might as well practice some useful functions!\n",
    "### len: Count how many items are in a list\n",
    "long_list = [1,4,3,2,5,7,7,4,3,2,6,8,9,5,5,3,0,8,6,5,4,3,6]\n",
    "print(\"How many items are in long_list?:\", len(long_list))\n",
    "\n",
    "### min and max: get the minimum and maximum value in a list\n",
    "print(\"What's the maximum number in long_list?:\", max(long_list))\n",
    "print(\"What's the minimum number in long_list?:\", min(long_list))\n",
    "\n",
    "### sum: add up all the items in a list (must have int or float types as items)\n",
    "print(\"What's the sum of numbers in long_list?:\", sum(long_list))"
   ]
  },
  {
   "cell_type": "code",
   "execution_count": null,
   "metadata": {
    "id": "jOh9wHHJ094M",
    "tags": []
   },
   "outputs": [],
   "source": [
    "#You memorized all those methods of lists, right?!? 🙄\n",
    "#No worries 😁, you can always view them (and more!) by using help()\n",
    "help(list)"
   ]
  },
  {
   "cell_type": "code",
   "execution_count": null,
   "metadata": {
    "colab": {
     "base_uri": "https://localhost:8080/"
    },
    "executionInfo": {
     "elapsed": 573,
     "status": "ok",
     "timestamp": 1616611202854,
     "user": {
      "displayName": "Benjamin Becerra",
      "photoUrl": "",
      "userId": "08853271431683877596"
     },
     "user_tz": 420
    },
    "id": "tiRQnT2SLZe2",
    "outputId": "aa3bb4c0-e2cb-45ae-fb16-a78693c5027c"
   },
   "outputs": [],
   "source": [
    "###List Comprehensions\n",
    "# You can create a new list based on an existing list or another iterable\n",
    "# quite easily with a List Comprehension https://www.w3schools.com/python/python_lists_comprehension.asp\n",
    "# A list comprehension let's you combine 1) making a list, 2) a for loop, AND 3) an if statement all in one line of code! 😀\n",
    "# This is sooooo useful and you will use it again and again\n",
    "\n",
    "# make a new list based off iterable, for every i in 0,1,2...9\n",
    "list_0_to_9 = [i for i in range(0,10)] \n",
    "print(list_0_to_9)\n",
    "\n",
    "# make a new list based off existing list, but take even numbers only (even number is when you divide by 2 and remainder == 0)\n",
    "even_only = [i for i in list_0_to_9 if i % 2 == 0] \n",
    "print(even_only)\n",
    "\n"
   ]
  },
  {
   "cell_type": "code",
   "execution_count": null,
   "metadata": {
    "colab": {
     "base_uri": "https://localhost:8080/",
     "height": 236
    },
    "executionInfo": {
     "elapsed": 741,
     "status": "error",
     "timestamp": 1616611203028,
     "user": {
      "displayName": "Benjamin Becerra",
      "photoUrl": "",
      "userId": "08853271431683877596"
     },
     "user_tz": 420
    },
    "id": "rJcZF0FShNYj",
    "outputId": "c389ee77-086e-4c82-e547-e3d2639fe289"
   },
   "outputs": [],
   "source": [
    "# don't forget to use an iterable!\n",
    "list_0_to_9 = [i for i in 10] # 10 is an int and not a iterable object! Consider another list, a range() sequence, tuples (coming next time), etc.\n",
    "print(list_0_to_9)\n",
    "#10 is not an iterable! If you are using len(), remember that is also just an int object! Convert to range() and that will be iterable 😀"
   ]
  },
  {
   "cell_type": "markdown",
   "metadata": {},
   "source": [
    "### Dictionaries 📕"
   ]
  },
  {
   "cell_type": "code",
   "execution_count": null,
   "metadata": {
    "colab": {
     "base_uri": "https://localhost:8080/",
     "height": 323
    },
    "executionInfo": {
     "elapsed": 279,
     "status": "error",
     "timestamp": 1616611219118,
     "user": {
      "displayName": "Benjamin Becerra",
      "photoUrl": "",
      "userId": "08853271431683877596"
     },
     "user_tz": 420
    },
    "id": "goFbrm5mKgVi",
    "outputId": "90dfd4dc-ae7f-478f-d2f6-85168209d375"
   },
   "outputs": [],
   "source": [
    "# Dictionaries are similar to lists, except they act as a key-value store in an associative array hash table\n",
    "# Dictionaries are mutable and can be changed\n",
    "\n",
    "# Notice we create a dictionary with curly braces {} and the key:value pairs are separated by commas\n",
    "students = {'001234567': 'Generic Student', '009876543': 'Another Student', '000000001':'Cody Coyote'}\n",
    "print(students)\n",
    "\n",
    "# Let's access a value with the key '0000000001'\n",
    "print(\"Student with ID '000000001' is:\", students['000000001'])\n",
    "\n",
    "# How many students are there? use len()\n",
    "print(\"There are\", len(students), \"students.\")\n",
    "\n",
    "# Maybe I only want the values into a list\n",
    "print(\"List of dictionary values:\", list(students.values()))\n",
    "\n",
    "# Maybe I want the keys into a list\n",
    "print(\"List of dictionary keys:\", list(students.keys()))\n",
    "\n",
    "# Maybe I want each key-value pair (an item of a dictionary) into a list\n",
    "print(\"List of dictionary key-value pairs:\", list(students.items()))\n",
    "\n",
    "# Am I in the list of students??\n",
    "students['003574622']  \n",
    "#KeyError! Nope...\n"
   ]
  },
  {
   "cell_type": "code",
   "execution_count": null,
   "metadata": {
    "colab": {
     "base_uri": "https://localhost:8080/",
     "height": 35
    },
    "executionInfo": {
     "elapsed": 289,
     "status": "ok",
     "timestamp": 1616611222938,
     "user": {
      "displayName": "Benjamin Becerra",
      "photoUrl": "",
      "userId": "08853271431683877596"
     },
     "user_tz": 420
    },
    "id": "w8ky_H1GTUmo",
    "outputId": "4efecc98-3c5d-48f1-e95d-a1fe4d30646e"
   },
   "outputs": [],
   "source": [
    "# That key error is kind of annoying. It will totally stop my code. I could do a try/except, but an easier way is get()\n",
    "# This let's you lookup the value for a key, but if it fails it will output whatever you want in the second argument\n",
    "students.get('003574622','Sorry, that student is not present in this database.')"
   ]
  },
  {
   "cell_type": "code",
   "execution_count": null,
   "metadata": {
    "colab": {
     "base_uri": "https://localhost:8080/"
    },
    "executionInfo": {
     "elapsed": 289,
     "status": "ok",
     "timestamp": 1616611224835,
     "user": {
      "displayName": "Benjamin Becerra",
      "photoUrl": "",
      "userId": "08853271431683877596"
     },
     "user_tz": 420
    },
    "id": "Ds5HNMuHT9oS",
    "outputId": "9d732973-f2e7-4f3c-821a-25294f92f0b0"
   },
   "outputs": [],
   "source": [
    "## Dictionary comprehensions!\n",
    "# very similar to list comprehensions, but don't forget the key:value should both have an iterator\n",
    "\n",
    "# Makes a copy of the original dictionary\n",
    "students_copy = {key:value for (key,value) in students.items()} #(key, value) is a tuple... that's coming up 😀\n",
    "print(\"Make a copy:\", students_copy)\n",
    "\n",
    "# Hmm maybe we can split the name value and replace it with a list of [last name, first name]\n",
    "student_rename =  {key:value.split() for (key,value) in students.items()}\n",
    "print(\"Split name into [first,last]:\", student_rename)\n",
    "\n",
    "# What if we wanted to reverse keys and values?? 🙃\n",
    "students_reverse = {value:key for (key,value) in students.items()}\n",
    "print(\"Reverse key and values:\", students_reverse)\n",
    "\n",
    "# What about adding a new dictionary entry (a new student)? Use update()\n",
    "new_student = {'003574622':'Ben Becerra'}\n",
    "students.update(new_student)\n",
    "print(students)\n"
   ]
  },
  {
   "cell_type": "code",
   "execution_count": null,
   "metadata": {
    "colab": {
     "base_uri": "https://localhost:8080/"
    },
    "executionInfo": {
     "elapsed": 281,
     "status": "ok",
     "timestamp": 1616611227662,
     "user": {
      "displayName": "Benjamin Becerra",
      "photoUrl": "",
      "userId": "08853271431683877596"
     },
     "user_tz": 420
    },
    "id": "r4FrVtagPle-",
    "outputId": "5d779198-12dd-4d4d-e834-0385bfaa3178"
   },
   "outputs": [],
   "source": [
    "## A Nested List in a Dictionaries\n",
    "student_major = ['Business Intelligence and Analytics', 'Cyber Security', 'CSUSB', 'N/A']\n",
    "students_list_nested = {k:[v,major] for ((k,v),major) in zip(students.items(), student_major)} #zip creates an iterator\n",
    "print(\"A Nested List Example:\\n\", students_list_nested)\n",
    "\n",
    "## A Nested Dictionary in a Dictionary\n",
    "students_dict_nested = {k:[{\"Total Units\":units},v] for ((k,v),units) in zip(students_list_nested.items(),[20,34,0,10000])}\n",
    "print(\"A Nested Dictionary Example:\\n\", students_dict_nested)"
   ]
  },
  {
   "cell_type": "code",
   "execution_count": 25,
   "metadata": {
    "colab": {
     "base_uri": "https://localhost:8080/"
    },
    "executionInfo": {
     "elapsed": 270,
     "status": "ok",
     "timestamp": 1616611229661,
     "user": {
      "displayName": "Benjamin Becerra",
      "photoUrl": "",
      "userId": "08853271431683877596"
     },
     "user_tz": 420
    },
    "id": "jKioWmlhWubk",
    "outputId": "59bd96ec-3a64-49d6-bcef-95e77fecd295"
   },
   "outputs": [
    {
     "ename": "NameError",
     "evalue": "name 'students_dict_nested' is not defined",
     "output_type": "error",
     "traceback": [
      "\u001b[1;31m---------------------------------------------------------------------------\u001b[0m",
      "\u001b[1;31mNameError\u001b[0m                                 Traceback (most recent call last)",
      "Cell \u001b[1;32mIn[25], line 5\u001b[0m\n\u001b[0;32m      1\u001b[0m \u001b[38;5;66;03m## Super important! Parsing data from a dictionary\u001b[39;00m\n\u001b[0;32m      2\u001b[0m \u001b[38;5;66;03m# Maybe I want to get a list of the total units per student. Take it one step at a time 😀 You'll eventually develop your own strategy.\u001b[39;00m\n\u001b[0;32m      3\u001b[0m \n\u001b[0;32m      4\u001b[0m \u001b[38;5;66;03m# Strategy: Break it down slowly to understand the structure\u001b[39;00m\n\u001b[1;32m----> 5\u001b[0m \u001b[38;5;28mprint\u001b[39m(students_dict_nested\u001b[38;5;241m.\u001b[39mget(\u001b[38;5;124m\"\u001b[39m\u001b[38;5;124m001234567\u001b[39m\u001b[38;5;124m\"\u001b[39m)) \u001b[38;5;66;03m#This is a list (you can tell from []) with 3 elements. I want the first element [0]\u001b[39;00m\n\u001b[0;32m      7\u001b[0m \u001b[38;5;28mprint\u001b[39m(students_dict_nested\u001b[38;5;241m.\u001b[39mget(\u001b[38;5;124m\"\u001b[39m\u001b[38;5;124m001234567\u001b[39m\u001b[38;5;124m\"\u001b[39m)[\u001b[38;5;241m0\u001b[39m]) \u001b[38;5;66;03m#OK this is now a dictionary (Notice the {}). I want the value (not the key)\u001b[39;00m\n\u001b[0;32m      9\u001b[0m \u001b[38;5;28mprint\u001b[39m(students_dict_nested\u001b[38;5;241m.\u001b[39mget(\u001b[38;5;124m\"\u001b[39m\u001b[38;5;124m001234567\u001b[39m\u001b[38;5;124m\"\u001b[39m)[\u001b[38;5;241m0\u001b[39m]\u001b[38;5;241m.\u001b[39mget(\u001b[38;5;124m\"\u001b[39m\u001b[38;5;124mTotal Units\u001b[39m\u001b[38;5;124m\"\u001b[39m)) \u001b[38;5;66;03m#That's the value we want! Make it into a list!\u001b[39;00m\n",
      "\u001b[1;31mNameError\u001b[0m: name 'students_dict_nested' is not defined"
     ]
    }
   ],
   "source": [
    "## Super important! Parsing data from a dictionary\n",
    "# Maybe I want to get a list of the total units per student. Take it one step at a time 😀 You'll eventually develop your own strategy.\n",
    "\n",
    "# Strategy: Break it down slowly to understand the structure\n",
    "print(students_dict_nested.get(\"001234567\")) #This is a list (you can tell from []) with 3 elements. I want the first element [0]\n",
    "\n",
    "print(students_dict_nested.get(\"001234567\")[0]) #OK this is now a dictionary (Notice the {}). I want the value (not the key)\n",
    "\n",
    "print(students_dict_nested.get(\"001234567\")[0].get(\"Total Units\")) #That's the value we want! Make it into a list!\n",
    "\n",
    "print([students_dict_nested.get(\"001234567\")[0].get(\"Total Units\")]) #Great! But that's only one number...\n"
   ]
  },
  {
   "cell_type": "code",
   "execution_count": null,
   "metadata": {
    "colab": {
     "base_uri": "https://localhost:8080/"
    },
    "executionInfo": {
     "elapsed": 263,
     "status": "ok",
     "timestamp": 1616611232197,
     "user": {
      "displayName": "Benjamin Becerra",
      "photoUrl": "",
      "userId": "08853271431683877596"
     },
     "user_tz": 420
    },
    "id": "ShkfUJrNYihm",
    "outputId": "1a01f592-fe15-4a80-ff23-750722c39909"
   },
   "outputs": [],
   "source": [
    "# Now you have a general idea of the structure to get the values you want. Let's try a list comprehension again to make a new list\n",
    "[students_dict_nested.get(\"001234567\")[0].get(\"Total Units\")] \n",
    "\n",
    "# hmm... so the 001234567 is a key. Let's replace it with some arbitrary iterator \"key\" (you could have called it whatever like banana and it'll work)\n",
    "# and we also should include an iterable. Earlier we used the the key-value pairs with .items(), but we are only using the keys, so .keys() is good\n",
    "list_of_units = [students_dict_nested.get(key)[0].get(\"Total Units\") for key in students_dict_nested.keys()] #Success!\n",
    "print(list_of_units) #Success!\n",
    "\n",
    "# So now this gives a better idea of where long code comes from... practice explaining in plain words what this does!!\n",
    "\n",
    "# Explanation: list_of_units is a list object created from the students_dict_nested dictionary object. For every key, the value of \n",
    "# this dictionary has two elements, a dictionary in [0] and a list in [1]. Using the dictionary in index [0], we access the \n",
    "# total units available by using the new key \"Total Units\". This is done for every dictionary entry in students_dict_nested until we have\n",
    "# a final list of four items."
   ]
  },
  {
   "cell_type": "markdown",
   "metadata": {
    "id": "8FNB9xJdHXCl"
   },
   "source": [
    "#### Lists and Dictionaries - Practice Exercises\n"
   ]
  },
  {
   "cell_type": "code",
   "execution_count": null,
   "metadata": {
    "executionInfo": {
     "elapsed": 273,
     "status": "ok",
     "timestamp": 1616609085504,
     "user": {
      "displayName": "Benjamin Becerra",
      "photoUrl": "",
      "userId": "08853271431683877596"
     },
     "user_tz": 420
    },
    "id": "syWUy2SoGF4j"
   },
   "outputs": [],
   "source": [
    "# 1a - Make a list object of the numbers 1,4,6,8,9,13\n",
    "number_list = # fix the code :)\n",
    "# 1b - Write code to describe the number of elements, minimum, max, and sum.\n"
   ]
  },
  {
   "cell_type": "code",
   "execution_count": 1,
   "metadata": {},
   "outputs": [
    {
     "name": "stdout",
     "output_type": "stream",
     "text": [
      "How many numbers are in the number list?: 6\n",
      "What is the smallest number in the list?: 1\n",
      "what is the highest number in the number list?: 13\n",
      "What is the sum of the list?: 41\n"
     ]
    }
   ],
   "source": [
    "#1a\n",
    "number_list = [1, 4, 6, 8, 9, 13]\n",
    "#1b\n",
    "print('How many numbers are in the number list?:', len(number_list))\n",
    "print('What is the smallest number in the list?:', min(number_list))\n",
    "print('what is the highest number in the number list?:', max(number_list))\n",
    "print('What is the sum of the list?:', sum(number_list))"
   ]
  },
  {
   "cell_type": "code",
   "execution_count": null,
   "metadata": {
    "id": "7rEEVVQlIgzV"
   },
   "outputs": [],
   "source": [
    "#2a - I want to delete the number 8 in the list. Fix the code so it works :)\n",
    "number_list.del(8)\n",
    "\n",
    "#2b - Help me save the last element 13 into an integer object number_13\n",
    "number_13 = "
   ]
  },
  {
   "cell_type": "code",
   "execution_count": 6,
   "metadata": {},
   "outputs": [
    {
     "name": "stdout",
     "output_type": "stream",
     "text": [
      "Before deleting 8 and popping 13: [1, 4, 6, 8, 9, 13]\n",
      "After deleting 8: [1, 4, 6, 9, 13]\n",
      "After popping 13:  [1, 4, 6, 9]\n",
      "Here is the saved popped:  13\n"
     ]
    }
   ],
   "source": [
    "#2a\n",
    "number_list = [1, 4, 6, 8, 9, 13]\n",
    "print(\"Before deleting 8 and popping 13:\", number_list)\n",
    "del number_list[3]\n",
    "print(\"After deleting 8:\", number_list)\n",
    "#2b\n",
    "number_13 = number_list.pop(4)\n",
    "print(\"After popping 13: \", number_list)\n",
    "print(\"Here is the saved popped: \", number_13)"
   ]
  },
  {
   "cell_type": "code",
   "execution_count": null,
   "metadata": {
    "id": "MONruuandRtH"
   },
   "outputs": [],
   "source": [
    "#3a - convert the following text string into a list\n",
    "#Example \"hello there\" becomes [\"hello\",\"there\"]\n",
    "text_string = \"A Dictionary in Python works similar to the Dictionary in the real world. Keys of a Dictionary must be unique and of immutable data type such as Strings, Integers and tuples, but the key-values can be repeated and be of any type.\"\n",
    "Q3_list = \n",
    "\n",
    "#3b - Use slicing to only show the first sentence in the text_string list object"
   ]
  },
  {
   "cell_type": "code",
   "execution_count": 18,
   "metadata": {},
   "outputs": [
    {
     "name": "stdout",
     "output_type": "stream",
     "text": [
      "Here is the text string before becoming a list: A Dictonary in Python works similar to the Dictionary in the real world. Keys of a Dictionary must be unique and of immutable data type sich as Strings, Integers, and tuples, but the key-values can be repeated and be of any type.\n",
      "Here is the string in a list: ['A', 'Dictonary', 'in', 'Python', 'works', 'similar', 'to', 'the', 'Dictionary', 'in', 'the', 'real', 'world.', 'Keys', 'of', 'a', 'Dictionary', 'must', 'be', 'unique', 'and', 'of', 'immutable', 'data', 'type', 'sich', 'as', 'Strings,', 'Integers,', 'and', 'tuples,', 'but', 'the', 'key-values', 'can', 'be', 'repeated', 'and', 'be', 'of', 'any', 'type.']\n",
      "Here is the first sentence of the string: A Dictonary in Python works similar to the Dictionary in the real world.\n"
     ]
    }
   ],
   "source": [
    "#3a\n",
    "text_string = \"A Dictonary in Python works similar to the Dictionary in the real world. Keys of a Dictionary must be unique and of immutable data type sich as Strings, Integers, and tuples, but the key-values can be repeated and be of any type.\"\n",
    "print(\"Here is the text string before becoming a list:\", text_string)\n",
    "Q3_list = text_string.split()\n",
    "print(\"Here is the string in a list:\",Q3_list)\n",
    "#3b\n",
    "Q3_slice = text_string[0:72]\n",
    "print(\"Here is the first sentence of the string:\", Q3_slice)\n",
    "\n",
    "\n",
    "\n"
   ]
  },
  {
   "cell_type": "code",
   "execution_count": 20,
   "metadata": {
    "colab": {
     "base_uri": "https://localhost:8080/"
    },
    "executionInfo": {
     "elapsed": 326,
     "status": "ok",
     "timestamp": 1616611123500,
     "user": {
      "displayName": "Benjamin Becerra",
      "photoUrl": "",
      "userId": "08853271431683877596"
     },
     "user_tz": 420
    },
    "id": "giIRD_A-KWOB",
    "outputId": "96ca6505-4635-4636-c40a-4912a9ed2894",
    "tags": []
   },
   "outputs": [
    {
     "ename": "FileNotFoundError",
     "evalue": "[Errno 2] No such file or directory: 'anscombe.json'",
     "output_type": "error",
     "traceback": [
      "\u001b[1;31m---------------------------------------------------------------------------\u001b[0m",
      "\u001b[1;31mFileNotFoundError\u001b[0m                         Traceback (most recent call last)",
      "Cell \u001b[1;32mIn[20], line 6\u001b[0m\n\u001b[0;32m      3\u001b[0m \u001b[38;5;28;01mimport\u001b[39;00m \u001b[38;5;21;01mjson\u001b[39;00m\n\u001b[0;32m      5\u001b[0m \u001b[38;5;66;03m# Opening JSON file\u001b[39;00m\n\u001b[1;32m----> 6\u001b[0m \u001b[38;5;28;01mwith\u001b[39;00m \u001b[38;5;28mopen\u001b[39m(\u001b[38;5;124m'\u001b[39m\u001b[38;5;124manscombe.json\u001b[39m\u001b[38;5;124m'\u001b[39m) \u001b[38;5;28;01mas\u001b[39;00m json_file:\n\u001b[0;32m      7\u001b[0m     data \u001b[38;5;241m=\u001b[39m json\u001b[38;5;241m.\u001b[39mload(json_file)\n\u001b[0;32m      8\u001b[0m \u001b[38;5;28mprint\u001b[39m(\u001b[38;5;28mtype\u001b[39m(data))\n",
      "File \u001b[1;32mc:\\Users\\Yossg\\anaconda3\\Lib\\site-packages\\IPython\\core\\interactiveshell.py:324\u001b[0m, in \u001b[0;36m_modified_open\u001b[1;34m(file, *args, **kwargs)\u001b[0m\n\u001b[0;32m    317\u001b[0m \u001b[38;5;28;01mif\u001b[39;00m file \u001b[38;5;129;01min\u001b[39;00m {\u001b[38;5;241m0\u001b[39m, \u001b[38;5;241m1\u001b[39m, \u001b[38;5;241m2\u001b[39m}:\n\u001b[0;32m    318\u001b[0m     \u001b[38;5;28;01mraise\u001b[39;00m \u001b[38;5;167;01mValueError\u001b[39;00m(\n\u001b[0;32m    319\u001b[0m         \u001b[38;5;124mf\u001b[39m\u001b[38;5;124m\"\u001b[39m\u001b[38;5;124mIPython won\u001b[39m\u001b[38;5;124m'\u001b[39m\u001b[38;5;124mt let you open fd=\u001b[39m\u001b[38;5;132;01m{\u001b[39;00mfile\u001b[38;5;132;01m}\u001b[39;00m\u001b[38;5;124m by default \u001b[39m\u001b[38;5;124m\"\u001b[39m\n\u001b[0;32m    320\u001b[0m         \u001b[38;5;124m\"\u001b[39m\u001b[38;5;124mas it is likely to crash IPython. If you know what you are doing, \u001b[39m\u001b[38;5;124m\"\u001b[39m\n\u001b[0;32m    321\u001b[0m         \u001b[38;5;124m\"\u001b[39m\u001b[38;5;124myou can use builtins\u001b[39m\u001b[38;5;124m'\u001b[39m\u001b[38;5;124m open.\u001b[39m\u001b[38;5;124m\"\u001b[39m\n\u001b[0;32m    322\u001b[0m     )\n\u001b[1;32m--> 324\u001b[0m \u001b[38;5;28;01mreturn\u001b[39;00m io_open(file, \u001b[38;5;241m*\u001b[39margs, \u001b[38;5;241m*\u001b[39m\u001b[38;5;241m*\u001b[39mkwargs)\n",
      "\u001b[1;31mFileNotFoundError\u001b[0m: [Errno 2] No such file or directory: 'anscombe.json'"
     ]
    }
   ],
   "source": [
    "#4a - This data is in json format (which converts to dictionary very well!).\n",
    "# Extract the first element in the list\n",
    "import json\n",
    " \n",
    "# Opening JSON file\n",
    "with open('anscombe.json') as json_file:\n",
    "    data = json.load(json_file)\n",
    "print(data) #Extract the first element from here! HINT: What type of object is it? type() can help\n",
    "\n",
    "\n",
    "#4b - Now extract the 'X' and 'Y' values from the first element of the original list only. Place them into a list 😀. This could be challenging...\n",
    "# Example: [10.0, 8.04]\n",
    "\n",
    "\n",
    "#4c - OPTIONAL: OK MORE of a challenge... NOW that you got the first element's X and Y values, keep going! Generate a final list of lists\n",
    "# Example: [[10.0, 8.04], [8.0, 6.95], [13.0, 7.58], [9.0, 8.81], ...,] \n",
    "# Hint: use the iterable range(len(data))\n"
   ]
  },
  {
   "cell_type": "code",
   "execution_count": 32,
   "metadata": {},
   "outputs": [
    {
     "name": "stdout",
     "output_type": "stream",
     "text": [
      "<class 'list'>\n",
      "First element from json: {'Series': 'I', 'X': 10.0, 'Y': 8.04}\n",
      "X and Y value list: [10.0, 8.04]\n"
     ]
    }
   ],
   "source": [
    "#4a\n",
    "import json\n",
    "with open('anscombe.json') as json_file:\n",
    "    data = json.load(json_file)\n",
    "print(type(data))\n",
    "first_element = data[0]\n",
    "print(\"First element from json:\", first_element)\n",
    "#4b\n",
    "x_element = first_element['X']\n",
    "y_element = first_element['Y']\n",
    "x_y_element = [x_element, y_element]\n",
    "print(\"X and Y value list:\", x_y_element)"
   ]
  },
  {
   "cell_type": "markdown",
   "metadata": {
    "id": "lGYOk9dSxxUF"
   },
   "source": [
    "Copyright Benjamin J. Becerra v2022.02.02.0\n",
    "\n",
    "\n"
   ]
  }
 ],
 "metadata": {
  "colab": {
   "authorship_tag": "ABX9TyMrsz6oIP2oU43ztn6gRx1B",
   "collapsed_sections": [],
   "name": "IST 4320 - Activity 3",
   "provenance": [
    {
     "file_id": "1q97GFrrPp3hziPFu5ifOw42gxicEOOph",
     "timestamp": 1614703906533
    },
    {
     "file_id": "1BxfsP6eSV0WcCeKXubPjB_bPfeIlsrET",
     "timestamp": 1613752512311
    },
    {
     "file_id": "1AGXQ3YAP9M0bl4iWugCyI4hkEtbelsOf",
     "timestamp": 1612219576473
    }
   ]
  },
  "kernelspec": {
   "display_name": "Python 3 (ipykernel)",
   "language": "python",
   "name": "python3"
  },
  "language_info": {
   "codemirror_mode": {
    "name": "ipython",
    "version": 3
   },
   "file_extension": ".py",
   "mimetype": "text/x-python",
   "name": "python",
   "nbconvert_exporter": "python",
   "pygments_lexer": "ipython3",
   "version": "3.12.4"
  }
 },
 "nbformat": 4,
 "nbformat_minor": 4
}
