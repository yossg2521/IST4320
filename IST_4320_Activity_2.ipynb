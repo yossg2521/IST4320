{
 "cells": [
  {
   "cell_type": "markdown",
   "metadata": {
    "id": "aKwd0_a-K9lr"
   },
   "source": [
    "Please go through the following in the text:\n",
    "- [Chapter 5 - Iterations](https://eng.libretexts.org/Bookshelves/Computer_Science/Book%3A_Python_for_Everybody_(Severance)/05%3A_Iterations)\n",
    "- [Chapter 6 - Strings](https://eng.libretexts.org/Bookshelves/Computer_Science/Book%3A_Python_for_Everybody_(Severance)/06%3A_Strings)\n",
    "## Iterations and Strings\n",
    "### Iterations"
   ]
  },
  {
   "cell_type": "code",
   "execution_count": 1,
   "metadata": {
    "colab": {
     "base_uri": "https://localhost:8080/"
    },
    "id": "5_4rZnA1YCjm",
    "outputId": "2f766668-956e-42f1-cb82-4a5e03169734"
   },
   "outputs": [
    {
     "name": "stdout",
     "output_type": "stream",
     "text": [
      "0\n",
      "1\n",
      "2\n"
     ]
    }
   ],
   "source": [
    "# Incrementing a variable (increasing step by step)\n",
    "x = 0 # first initialize the variable\n",
    "print(x)\n",
    "\n",
    "x = x + 1 #increment x by 1\n",
    "print(x)\n",
    "\n",
    "x += 1  # increment x by 1 (same thing as x = x + 1 but with less code)\n",
    "print(x)"
   ]
  },
  {
   "cell_type": "code",
   "execution_count": 2,
   "metadata": {
    "colab": {
     "base_uri": "https://localhost:8080/"
    },
    "id": "tiRQnT2SLZe2",
    "outputId": "897d170d-7398-4b33-9fa3-546f4fad037b"
   },
   "outputs": [
    {
     "name": "stdout",
     "output_type": "stream",
     "text": [
      "0\n",
      "1\n",
      "2\n",
      "3\n",
      "4\n",
      "5\n",
      "6\n",
      "7\n",
      "8\n",
      "9\n",
      "10\n",
      "11\n",
      "12\n",
      "13\n",
      "14\n",
      "15\n"
     ]
    }
   ],
   "source": [
    "# What if you want to keep repeating something over and over? Try the while statement!\n",
    "# Maybe I wanted to keep adding 1 until I reached a total of 15\n",
    "y = 0 # initialize a variable y = 0\n",
    "while y < 15:  # this makes a while loop, and it means \"keep doing the following until y is less than 15\"\n",
    "    print(y) # use this print statement to \"peek\" at what is happening inside the while loop\n",
    "    y += 1 # keep adding 1 to y\n",
    "\n",
    "print(y)\n",
    "# careful with while loops! If the while statement is ALWAYS true, then you will be in an infinite loop! You may or may not want this..."
   ]
  },
  {
   "cell_type": "code",
   "execution_count": null,
   "metadata": {
    "id": "5Lo5k1dcRHIg"
   },
   "outputs": [],
   "source": [
    "# Don't run this.. it's just an example of an infinite loop since y is always going to be equal to itself 😅\n",
    "# If you accidentally get into an unwanted infinite loop, press the Stop button!\n",
    "while y == y:\n",
    "    print(\"infinite loop 🤪\")\n"
   ]
  },
  {
   "cell_type": "code",
   "execution_count": 3,
   "metadata": {
    "colab": {
     "base_uri": "https://localhost:8080/"
    },
    "id": "41E05FBOR2W8",
    "outputId": "10708ac2-c320-4551-a330-27810acb8daa"
   },
   "outputs": [
    {
     "name": "stdout",
     "output_type": "stream",
     "text": [
      "What do you feel like eating right now?  anything\n"
     ]
    },
    {
     "name": "stdout",
     "output_type": "stream",
     "text": [
      "anything sounds yummy! What do you want to eat next?\n"
     ]
    },
    {
     "name": "stdout",
     "output_type": "stream",
     "text": [
      "What do you feel like eating right now?  nothing\n"
     ]
    },
    {
     "name": "stdout",
     "output_type": "stream",
     "text": [
      "Ok no problem 😀\n"
     ]
    }
   ],
   "source": [
    "# Maybe you DO want something to constantly be running forever, and only stop when a certain event occurs. \n",
    "\n",
    "while True:\n",
    "    line = input('What do you feel like eating right now? ')\n",
    "    if line == 'nothing': # if someone types 'nothing'\n",
    "        break             # then break out of this while loop!\n",
    "    print(line, \"sounds yummy! What do you want to eat next?\")\n",
    "\n",
    "print('Ok no problem 😀')\n"
   ]
  },
  {
   "cell_type": "code",
   "execution_count": 4,
   "metadata": {
    "colab": {
     "base_uri": "https://localhost:8080/"
    },
    "id": "jb4f9-OTbr8S",
    "outputId": "9a0f35e1-b625-4096-8d0b-8a43f412e333"
   },
   "outputs": [
    {
     "name": "stdout",
     "output_type": "stream",
     "text": [
      "Welcome to the database.\n"
     ]
    },
    {
     "name": "stdout",
     "output_type": "stream",
     "text": [
      "Input your data. If finished, type exit.  $123.44\n"
     ]
    },
    {
     "name": "stdout",
     "output_type": "stream",
     "text": [
      "$123.44 has been saved to the database.\n"
     ]
    },
    {
     "name": "stdout",
     "output_type": "stream",
     "text": [
      "Input your data. If finished, type exit.  $3333.333\n"
     ]
    },
    {
     "name": "stdout",
     "output_type": "stream",
     "text": [
      "$3333.333 has been saved to the database.\n"
     ]
    },
    {
     "name": "stdout",
     "output_type": "stream",
     "text": [
      "Input your data. If finished, type exit.  ⬆⬆⬇⬇⬅➡⬅➡BA\n"
     ]
    },
    {
     "name": "stdout",
     "output_type": "stream",
     "text": [
      "Secret level unlocked 👊💥. You are now employee of the month.\n"
     ]
    },
    {
     "name": "stdout",
     "output_type": "stream",
     "text": [
      "Input your data. If finished, type exit.  exit\n"
     ]
    },
    {
     "name": "stdout",
     "output_type": "stream",
     "text": [
      "Thank you for using the database. Have a nice day 👋\n"
     ]
    }
   ],
   "source": [
    "# Another infinite loop (on purpose).. maybe you want to skip the loop for some reason.\n",
    "print(\"Welcome to the database.\")\n",
    "while True:\n",
    "    line = input('Input your data. If finished, type exit. ')\n",
    "    # This if statement will skip the loop (but not break out of it)\n",
    "    if line == '⬆⬆⬇⬇⬅➡⬅➡BA':\n",
    "        print(\"Secret level unlocked 👊💥. You are now employee of the month.\")\n",
    "        continue\n",
    "    # This if statement will break out of the while loop if True\n",
    "    if line == 'exit':\n",
    "        break\n",
    "    # This is what will actually be executed every loop. It's just a print statement, but imagine it's saving data somewhere :)\n",
    "    print(line, \"has been saved to the database.\")\n",
    "print('Thank you for using the database. Have a nice day 👋')\n"
   ]
  },
  {
   "cell_type": "code",
   "execution_count": 6,
   "metadata": {
    "colab": {
     "base_uri": "https://localhost:8080/"
    },
    "id": "FlIFz0xCijjZ",
    "outputId": "4af2efc8-9f22-47d7-a738-161228269af9"
   },
   "outputs": [
    {
     "name": "stdout",
     "output_type": "stream",
     "text": [
      "I feel like eating: falafel🥙\n",
      "I feel like eating: fish and chips🐟\n",
      "I feel like eating: poutine🍟\n",
      "Now I'm full! 😋\n"
     ]
    }
   ],
   "source": [
    "# Maybe you want a loop, but only to run in a limited set of conditions. \n",
    "# If may be useful to write it in the form of a for loop\n",
    "# This is useful if you have a list of items you'd like to use.\n",
    "\n",
    "foods = ['falafel🥙', 'fish and chips🐟', 'poutine🍟']  #foods here is a list of string items (we'll go into lists more soon 😀)\n",
    "# The word 'food' is just an iterator variable that refers to one item at a time in a larger list. In math and other programming languages,\n",
    "# it's typically i, j, k... but in python culture also known as when something is \"pythonic\",\n",
    "# we like to use more descriptive words like \"food in foods\", \"fruits in basket\", etc. 😁\n",
    "# The for loop will end automatically when it runs out of items to iterate through.\n",
    "\n",
    "for food in foods:  # For every 'food' item in the list of 'foods', do the following:\n",
    "    print('I feel like eating:', food) \n",
    "print(\"Now I'm full! 😋\") \n",
    "\n"
   ]
  },
  {
   "cell_type": "code",
   "execution_count": 12,
   "metadata": {
    "colab": {
     "base_uri": "https://localhost:8080/"
    },
    "id": "Jan-yYMpCDk9",
    "outputId": "547e83ae-a8e7-4bd1-fc45-9e1d98883bd4"
   },
   "outputs": [
    {
     "name": "stdout",
     "output_type": "stream",
     "text": [
      "Number of people:  5\n",
      "Total Revenue:  4700\n"
     ]
    }
   ],
   "source": [
    "# We may want to count how many elements (things we have) in something, such as a list.\n",
    "# Counting\n",
    "ages = [19, 28, 43, 21, 24]\n",
    "count = 0  #initialize variable\n",
    "for age in ages:  #count how many elements are in the list of ages, which would give us number of people\n",
    "    count = count + 1\n",
    "print('Number of people: ', count)\n",
    "\n",
    "# We might also want to add up (sum) elements in something.\n",
    "# Sum\n",
    "revenue = [2500, 1500, 500, 200]\n",
    "total = 0\n",
    "for amount in revenue: #sum of revenue to give us total revenue\n",
    "    total = total + amount\n",
    "print('Total Revenue: ', total)\n",
    "\n",
    "# Of course there are easier ways to count and get the sum, but these structures are useful for other applications! 😀"
   ]
  },
  {
   "cell_type": "code",
   "execution_count": 17,
   "metadata": {
    "colab": {
     "base_uri": "https://localhost:8080/"
    },
    "id": "1eGwh2QPQz2z",
    "outputId": "81ea78a8-3030-4c83-cd67-2f9d8acd8263"
   },
   "outputs": [
    {
     "name": "stdout",
     "output_type": "stream",
     "text": [
      "Before: None\n",
      "Is -100 greater than None ?\n",
      "Largest number was: -100 .  'bigger_number' variable will store -100 .\n",
      "\n",
      "Is 2 greater than -100 ?\n",
      "Largest number was: 2 .  'bigger_number' variable will store 2 .\n",
      "\n",
      "Is -200 greater than 2 ?\n",
      "Largest number was: 2 .  'bigger_number' variable will store 2 .\n",
      "\n",
      "Is -40 greater than 2 ?\n",
      "Largest number was: 2 .  'bigger_number' variable will store 2 .\n",
      "\n",
      "Is 0 greater than 2 ?\n",
      "Largest number was: 2 .  'bigger_number' variable will store 2 .\n",
      "\n",
      "Is 99 greater than 2 ?\n",
      "Largest number was: 99 .  'bigger_number' variable will store 99 .\n",
      "\n",
      "Is 50 greater than 99 ?\n",
      "Largest number was: 99 .  'bigger_number' variable will store 99 .\n",
      "\n",
      "Is 25 greater than 99 ?\n",
      "Largest number was: 99 .  'bigger_number' variable will store 99 .\n",
      "\n",
      "Largest number in list: 99\n"
     ]
    }
   ],
   "source": [
    "# A loop to find the maximum in a list\n",
    "bigger_number = None #initialize the variable as a placeholder for the largest number\n",
    "list_of_numbers = [-100, 2, -200, -40, 0, 99, 50, 25]\n",
    "print('Before:', bigger_number)\n",
    "for number in list_of_numbers:\n",
    "    print('Is',number,'greater than',bigger_number,'?')\n",
    "    if bigger_number is None or number > bigger_number :  # this will compare each number to the placeholder variable 'bigger_number'\n",
    "        bigger_number = number # if a number in the list is bigger than 'bigger_number', then it will be saved into 'bigger_number'\n",
    "    print('Largest number was:', bigger_number,\".  'bigger_number' variable will store\",bigger_number,\".\\n\")\n",
    "    \n",
    "print('Largest number in list:', bigger_number)"
   ]
  },
  {
   "cell_type": "code",
   "execution_count": 16,
   "metadata": {
    "colab": {
     "base_uri": "https://localhost:8080/"
    },
    "id": "cQ4t4M0ZUYFU",
    "outputId": "3a09984a-be79-4b5e-f8ff-edddcf827fba"
   },
   "outputs": [
    {
     "name": "stdout",
     "output_type": "stream",
     "text": [
      "Before: None\n",
      "Is -100 less than None ?\n",
      "Smallest number was: -100 .  'smaller_number' variable will store -100 .\n",
      "\n",
      "Is 2 less than -100 ?\n",
      "Smallest number was: -100 .  'smaller_number' variable will store -100 .\n",
      "\n",
      "Is -200 less than -100 ?\n",
      "Smallest number was: -200 .  'smaller_number' variable will store -200 .\n",
      "\n",
      "Is -40 less than -200 ?\n",
      "Smallest number was: -200 .  'smaller_number' variable will store -200 .\n",
      "\n",
      "Is 0 less than -200 ?\n",
      "Smallest number was: -200 .  'smaller_number' variable will store -200 .\n",
      "\n",
      "Is 99 less than -200 ?\n",
      "Smallest number was: -200 .  'smaller_number' variable will store -200 .\n",
      "\n",
      "Is 50 less than -200 ?\n",
      "Smallest number was: -200 .  'smaller_number' variable will store -200 .\n",
      "\n",
      "Is 25 less than -200 ?\n",
      "Smallest number was: -200 .  'smaller_number' variable will store -200 .\n",
      "\n",
      "Smallest number in list: -200\n"
     ]
    }
   ],
   "source": [
    "# A loop to find the minimum number in a list\n",
    "smaller_number = None #initialize the variable as a placeholder for the smallest number\n",
    "list_of_numbers = [-100, 2, -200, -40, 0, 99, 50, 25]\n",
    "print('Before:', smaller_number)\n",
    "for number in list_of_numbers:\n",
    "    print('Is',number,'less than',smaller_number,'?')\n",
    "    if smaller_number is None or number < smaller_number :  # this will compare each number to the placeholder variable 'smaller_number'\n",
    "        smaller_number = number # if a number in the list is smaller than 'smaller_number', then it will be saved into 'smaller_number'\n",
    "    print('Smallest number was:', smaller_number,\".  'smaller_number' variable will store\",smaller_number,\".\\n\")\n",
    "    \n",
    "print('Smallest number in list:', smaller_number)"
   ]
  },
  {
   "cell_type": "markdown",
   "metadata": {},
   "source": [
    "### Strings"
   ]
  },
  {
   "cell_type": "code",
   "execution_count": 18,
   "metadata": {
    "colab": {
     "base_uri": "https://localhost:8080/"
    },
    "id": "sr-fhn5dVPKN",
    "outputId": "3f0c3914-2900-4125-bea4-a3d0f10e3000"
   },
   "outputs": [
    {
     "data": {
      "text/plain": [
       "str"
      ]
     },
     "execution_count": 18,
     "metadata": {},
     "output_type": "execute_result"
    }
   ],
   "source": [
    "# Strings are sequences of text!\n",
    "hello_world = 'Hello World!'\n",
    "type(hello_world)\n"
   ]
  },
  {
   "cell_type": "code",
   "execution_count": 5,
   "metadata": {
    "colab": {
     "base_uri": "https://localhost:8080/"
    },
    "id": "vuBtTp5tVdIF",
    "outputId": "82c0513b-2a88-421d-cb00-b7a2e20b2140"
   },
   "outputs": [
    {
     "ename": "NameError",
     "evalue": "name 'hello_world' is not defined",
     "output_type": "error",
     "traceback": [
      "\u001b[1;31m---------------------------------------------------------------------------\u001b[0m",
      "\u001b[1;31mNameError\u001b[0m                                 Traceback (most recent call last)",
      "Cell \u001b[1;32mIn[5], line 2\u001b[0m\n\u001b[0;32m      1\u001b[0m \u001b[38;5;66;03m# You can extract pieces of text from a string (a \"slice\") using a subset notation with square brackets []\u001b[39;00m\n\u001b[1;32m----> 2\u001b[0m \u001b[38;5;28mprint\u001b[39m(\u001b[38;5;124m\"\u001b[39m\u001b[38;5;124mExtract position 0:\u001b[39m\u001b[38;5;124m\"\u001b[39m, hello_world[\u001b[38;5;241m0\u001b[39m]) \u001b[38;5;66;03m#extract the 0 position 'H' (everything in python starts at 0, not 1 😮)\u001b[39;00m\n\u001b[0;32m      3\u001b[0m \u001b[38;5;28mprint\u001b[39m(\u001b[38;5;124m\"\u001b[39m\u001b[38;5;124mExtract position 1:\u001b[39m\u001b[38;5;124m\"\u001b[39m, hello_world[\u001b[38;5;241m1\u001b[39m]) \u001b[38;5;66;03m#extract the 1 position 'e' (It's actually the 2nd character... don't forget this!)\u001b[39;00m\n\u001b[0;32m      5\u001b[0m \u001b[38;5;28mprint\u001b[39m(\u001b[38;5;124m\"\u001b[39m\u001b[38;5;124mExtract the last position:\u001b[39m\u001b[38;5;124m\"\u001b[39m, hello_world[\u001b[38;5;241m-\u001b[39m\u001b[38;5;241m1\u001b[39m]) \u001b[38;5;66;03m#extract the last position... helpful so you don't have to count to the end\u001b[39;00m\n",
      "\u001b[1;31mNameError\u001b[0m: name 'hello_world' is not defined"
     ]
    }
   ],
   "source": [
    "# You can extract pieces of text from a string (a \"slice\") using a subset notation with square brackets []\n",
    "print(\"Extract position 0:\", hello_world[0]) #extract the 0 position 'H' (everything in python starts at 0, not 1 😮)\n",
    "print(\"Extract position 1:\", hello_world[1]) #extract the 1 position 'e' (It's actually the 2nd character... don't forget this!)\n",
    "\n",
    "print(\"Extract the last position:\", hello_world[-1]) #extract the last position... helpful so you don't have to count to the end\n",
    "\n",
    "#extract from position 0 up until position 1 (but NOT including position 1). Notice how it's the same as using [0].\n",
    "print(\"Extract from position 0 to before position 1:\", hello_world[0:1])\n",
    "\n",
    "#extract from position 0 up until position 5 (but NOT including position 5). Notice how it's the same as using [:5].\n",
    "print(\"Extract from position 0 to before position 5:\", hello_world[0:5])\n",
    "\n",
    "#extract from position 6 to the end of the string). Notice how it's the same as using [7:].\n",
    "print(\"Extract from position 6 to end of the string:\", hello_world[6:])\n",
    "\n",
    "#How many characters long is 'Hello World!'?\n",
    "print(\"'Hello World!' is\", len(hello_world), 'characters long.')\n",
    "\n",
    "#Slicing can get more complicated... What would 'Hello World!' look like backwards?\n",
    "print(\"'Hello World!' backwards is\", hello_world[::-1])\n",
    "\n",
    "#What if I want to skip every 2nd character?\n",
    "print(\"'Hello World!' with every 2nd character skipped is\", hello_world[::2])\n"
   ]
  },
  {
   "cell_type": "code",
   "execution_count": 20,
   "metadata": {
    "colab": {
     "base_uri": "https://localhost:8080/"
    },
    "id": "kstRwYJQYNOa",
    "outputId": "81b55ab8-6ff4-4fd2-ebdb-e08fc992847c"
   },
   "outputs": [
    {
     "name": "stdout",
     "output_type": "stream",
     "text": [
      "Is the answer A ?\n",
      "A is not the correct answer. Try again. 👎\n",
      "Is the answer B ?\n",
      "B is not the correct answer. Try again. 👎\n",
      "Is the answer C ?\n",
      "C is not the correct answer. Try again. 👎\n",
      "Is the answer D ?\n",
      "The correct answer is D . 🥳\n",
      "\n",
      "Is there a 'y' in 'jägerschnitzel'? False\n",
      "Is there an 'apple' in 'pineapple'? True\n"
     ]
    }
   ],
   "source": [
    "# A string is an iterable, so you can use it in loops!\n",
    "for char in 'ABCD': # This will go through the string 'ABCD' one letter at a time.\n",
    "    print(\"Is the answer\", char,\"?\")\n",
    "    if char == 'D':\n",
    "        print(\"The correct answer is\", char, \". 🥳\")\n",
    "    else:\n",
    "        print(char,\"is not the correct answer. Try again. 👎\")\n",
    "\n",
    "# The 'in' operator also checks for logic\n",
    "print(\"\\nIs there a 'y' in 'jägerschnitzel'?\", 'y' in 'jägerschnitzel') #have you been noticing these \\n things? I wonder what they do...\n",
    "print(\"Is there an 'apple' in 'pineapple'?\", 'apple' in 'pineapple') #FYI: 🍍 is botanically not related to an 🍎... 🤓\n"
   ]
  },
  {
   "cell_type": "code",
   "execution_count": null,
   "metadata": {
    "colab": {
     "base_uri": "https://localhost:8080/",
     "height": 219
    },
    "id": "JYclqVLl8c_O",
    "outputId": "ee56177d-0090-48c9-ba48-a9b768105747"
   },
   "outputs": [
    {
     "ename": "TypeError",
     "evalue": "ignored",
     "output_type": "error",
     "traceback": [
      "\u001b[0;31m---------------------------------------------------------------------------\u001b[0m",
      "\u001b[0;31mTypeError\u001b[0m                                 Traceback (most recent call last)",
      "\u001b[0;32m<ipython-input-18-b97be2bb4047>\u001b[0m in \u001b[0;36m<module>\u001b[0;34m()\u001b[0m\n\u001b[1;32m      3\u001b[0m \u001b[0mmy_name\u001b[0m \u001b[0;34m=\u001b[0m \u001b[0;34m'Ban'\u001b[0m\u001b[0;34m\u001b[0m\u001b[0;34m\u001b[0m\u001b[0m\n\u001b[1;32m      4\u001b[0m \u001b[0;31m# oops missspellled, can I fix it?\u001b[0m\u001b[0;34m\u001b[0m\u001b[0;34m\u001b[0m\u001b[0;34m\u001b[0m\u001b[0m\n\u001b[0;32m----> 5\u001b[0;31m \u001b[0mmy_name\u001b[0m\u001b[0;34m[\u001b[0m\u001b[0;36m1\u001b[0m\u001b[0;34m]\u001b[0m \u001b[0;34m=\u001b[0m \u001b[0;34m'e'\u001b[0m \u001b[0;31m#assign 2nd character to 'e'... 🤞\u001b[0m\u001b[0;34m\u001b[0m\u001b[0;34m\u001b[0m\u001b[0m\n\u001b[0m\u001b[1;32m      6\u001b[0m \u001b[0;31m#😒\u001b[0m\u001b[0;34m\u001b[0m\u001b[0;34m\u001b[0m\u001b[0;34m\u001b[0m\u001b[0m\n",
      "\u001b[0;31mTypeError\u001b[0m: 'str' object does not support item assignment"
     ]
    }
   ],
   "source": [
    "# Immutability\n",
    "# Strings cannot be changed! \n",
    "my_name = 'Ban'\n",
    "# oops missspellled, can I fix it?\n",
    "my_name[1] = 'e' #can I assign 2nd character to 'e'... 🤞\n",
    "#😒\n"
   ]
  },
  {
   "cell_type": "code",
   "execution_count": 21,
   "metadata": {
    "colab": {
     "base_uri": "https://localhost:8080/"
    },
    "id": "p8F5cUCR9Eot",
    "outputId": "b99ced81-1f0e-42db-ff44-cdaf3862b4b4"
   },
   "outputs": [
    {
     "name": "stdout",
     "output_type": "stream",
     "text": [
      "Ben\n"
     ]
    }
   ],
   "source": [
    "# If you want to change a string, you have to make a new one (or reassign the old one to a new object)\n",
    "my_name = 'Ben' #overwrite assignment of my_name to new string 'Ben'\n",
    "print(my_name)"
   ]
  },
  {
   "cell_type": "code",
   "execution_count": 22,
   "metadata": {
    "colab": {
     "base_uri": "https://localhost:8080/"
    },
    "id": "2MS4L1f89fd2",
    "outputId": "e33eaf3e-0fe6-483a-cddc-349615ced1aa"
   },
   "outputs": [
    {
     "name": "stdout",
     "output_type": "stream",
     "text": [
      "2\n"
     ]
    }
   ],
   "source": [
    "# Counting within a string.. how many lowercase 'i's are there?\n",
    "word = 'IST 4320 - Activity'\n",
    "count = 0 # initialize the count variable\n",
    "for letter in word: #go through every letter in each word. Remember, 'letter' isn't anything special! You could call it 'LOL' even and it'll work\n",
    "    if letter == 'i':\n",
    "        count = count + 1 \n",
    "print(count)\n",
    "\n"
   ]
  },
  {
   "cell_type": "code",
   "execution_count": 23,
   "metadata": {
    "colab": {
     "base_uri": "https://localhost:8080/"
    },
    "id": "ZWWB6S0zD-C0",
    "outputId": "b9daee75-3277-4174-a1ee-a6f033374557"
   },
   "outputs": [
    {
     "name": "stdout",
     "output_type": "stream",
     "text": [
      "Did the 'chicken' come before the 'egg' (alphabetically?) True\n",
      "Does 'a' come before 'B'? False\n"
     ]
    }
   ],
   "source": [
    "# String comparisons\n",
    "# Maybe I want to see if strings are in alphabetical order. use < to compare before, and > to compare after\n",
    "\n",
    "print(\"Did the 'chicken' come before the 'egg' (alphabetically?)\", 'chicken' < 'egg')\n",
    "#Actually, upper case letters are considered separate characters than lowercase. Uppercase come first!\n",
    "print(\"Does 'a' come before 'B'?\", 'a' < 'B') #seems weird, but it's because an upper case letter comes in order before lowercase. \n"
   ]
  },
  {
   "cell_type": "markdown",
   "metadata": {
    "id": "8FNB9xJdHXCl"
   },
   "source": [
    "#### Iterations and Strings - Practice Exercises\n"
   ]
  },
  {
   "cell_type": "code",
   "execution_count": null,
   "metadata": {
    "colab": {
     "base_uri": "https://localhost:8080/"
    },
    "id": "syWUy2SoGF4j",
    "outputId": "1ab593be-1f47-4217-c94f-b266cdb04726"
   },
   "outputs": [
    {
     "name": "stdout",
     "output_type": "stream",
     "text": [
      "Welcome to the dice roll.\n",
      "Enter any key to continue. Enter 'STOP' to exit. s\n",
      "Rolled a  🎲🎲🎲🎲\n",
      "Enter any key to continue. Enter 'STOP' to exit. f\n",
      "Rolled a  🎲\n",
      "Enter any key to continue. Enter 'STOP' to exit. g\n",
      "Rolled a  🎲🎲🎲🎲\n",
      "Enter any key to continue. Enter 'STOP' to exit. r\n",
      "Rolled a  🎲🎲🎲🎲🎲\n",
      "Enter any key to continue. Enter 'STOP' to exit. ws\n",
      "Rolled a  🎲🎲🎲🎲🎲🎲\n",
      "Enter any key to continue. Enter 'STOP' to exit. d\n",
      "Rolled a  🎲🎲\n",
      "Enter any key to continue. Enter 'STOP' to exit. STOP\n",
      "Thank you for using dice roll. Have a nice day\n"
     ]
    }
   ],
   "source": [
    "# 1 - Fix the code so that it will stop if the word 'STOP' is entered.\n",
    "import random\n",
    "print(\"Welcome to the dice roll 🎲\")\n",
    "while True:\n",
    "    line = input(\"Enter any key to continue. Enter 'STOP' to exit. \")\n",
    " \n",
    "    ### Enter your code below here! (TWO lines needed) ###\n",
    "   \n",
    "    ### End code fixing, no more changes needed ###    \n",
    "    else:\n",
    "        print(\"Rolled a \", random.randint(1,6)*\"🎲\")\n",
    "        continue\n",
    "print('Thank you for using dice roll. Have a nice day')\n"
   ]
  },
  {
   "cell_type": "code",
   "execution_count": 3,
   "metadata": {},
   "outputs": [
    {
     "name": "stdout",
     "output_type": "stream",
     "text": [
      "Welcome to the dice roll 🎲\n",
      "Thank you for using dice roll. Have a nice day!\n"
     ]
    }
   ],
   "source": [
    "import random\n",
    "print(\"Welcome to the dice roll 🎲\")\n",
    "while True:\n",
    "    line = input(\"Enter any key to continue. Enter 'STOP' to exist.\")\n",
    "    if line == 'stop':\n",
    "        break\n",
    "    else:\n",
    "     print(\"Rolled a \", random.randint(1,6)*\"🎲\")\n",
    "     continue\n",
    "print('Thank you for using dice roll. Have a nice day!')"
   ]
  },
  {
   "cell_type": "code",
   "execution_count": null,
   "metadata": {
    "colab": {
     "base_uri": "https://localhost:8080/"
    },
    "id": "7rEEVVQlIgzV",
    "outputId": "3f9173fc-2c3f-4ad6-d37f-c0554db02d32"
   },
   "outputs": [
    {
     "name": "stdout",
     "output_type": "stream",
     "text": [
      "Cyber attack event detected.\n",
      "Cyber attack event detected.\n",
      "There were 2 cyber attack event(s) detected.\n"
     ]
    }
   ],
   "source": [
    "#2 - Fix the code so it will look through each item in the list of events for potential cyber security attack events.\n",
    "\n",
    "events = ['detected','typical','typical','typical','detected','unknown','typical','unknown']\n",
    "num_event = 0\n",
    "### Fix the code below! ONE line needed (not including indenting)####\n",
    "\n",
    "if event == 'detected':\n",
    "    event = num_event += 1\n",
    "print(\"Cyber attack event detected.\")\n",
    "### End code fixing. No more changes needed. ###    \n",
    "print(\"There were\", num_event, \"cyber attack event(s) detected.\") \n"
   ]
  },
  {
   "cell_type": "code",
   "execution_count": 4,
   "metadata": {},
   "outputs": [
    {
     "name": "stdout",
     "output_type": "stream",
     "text": [
      "Cyber attack event detect.\n",
      "There were 1 cyber attack event(s) detected.\n",
      "Cyber attack event detect.\n",
      "There were 1 cyber attack event(s) detected.\n",
      "Cyber attack event detect.\n",
      "There were 1 cyber attack event(s) detected.\n",
      "Cyber attack event detect.\n",
      "There were 1 cyber attack event(s) detected.\n",
      "Cyber attack event detect.\n",
      "There were 2 cyber attack event(s) detected.\n",
      "Cyber attack event detect.\n",
      "There were 2 cyber attack event(s) detected.\n",
      "Cyber attack event detect.\n",
      "There were 2 cyber attack event(s) detected.\n",
      "Cyber attack event detect.\n",
      "There were 2 cyber attack event(s) detected.\n"
     ]
    }
   ],
   "source": [
    "events = ['detected', 'typical', 'typical', 'typical', 'detected', 'unknown', 'typical', 'unknown']\n",
    "num_event = 0\n",
    "for event in events:\n",
    "    if event == 'detected':\n",
    "        num_event += 1\n",
    "    print(\"Cyber attack event detect.\")\n",
    "    print(\"There were\", num_event, \"cyber attack event(s) detected.\")\n",
    "    "
   ]
  },
  {
   "cell_type": "code",
   "execution_count": 1,
   "metadata": {
    "colab": {
     "base_uri": "https://localhost:8080/"
    },
    "id": "giIRD_A-KWOB",
    "outputId": "1a202f72-25a5-4e51-aa4f-a2f66662dbf6"
   },
   "outputs": [
    {
     "ename": "SyntaxError",
     "evalue": "unterminated string literal (detected at line 5) (1698404118.py, line 5)",
     "output_type": "error",
     "traceback": [
      "\u001b[1;36m  Cell \u001b[1;32mIn[1], line 5\u001b[1;36m\u001b[0m\n\u001b[1;33m    text_string = \":If you look at what you have in life, you'^ll always have more.& If you look at what you don't have in life, \\\\\u001b[0m\n\u001b[1;37m                  ^\u001b[0m\n\u001b[1;31mSyntaxError\u001b[0m\u001b[1;31m:\u001b[0m unterminated string literal (detected at line 5)\n"
     ]
    }
   ],
   "source": [
    "#3 - Messy data, messy data... time to clean 🧹! \n",
    "# Fix the code below so it will identify text that will cause an error (i.e. illegal characters) from the predefined string 'no_char'\n",
    "# It should cycle through each character in 'text_string' and if the character is in 'no_char'\n",
    "# and then it will save the matched characters to 'no_char_found' list. \n",
    "text_string = \":If you look at what you have in life, you'^ll always have more.& If you look at what you don't have in life, \\\\\n",
    "   you'll never have enough. -Oprah Winfrey\"\n",
    "no_char = \":&^*-~`\"\n",
    "no_char_found = []\n",
    "### Fix the code below! TWO lines are needed (not including indenting).. try your best 😀###\n",
    "\n",
    "\n",
    "### End code fixing. No more changes needed. ### \n",
    "    print(\"Blocked character '\", char, \"' found.\")\n",
    "    no_char_found.append(char)\n",
    "print(\"The following blocked characters have been found:\", no_char_found)\n"
   ]
  },
  {
   "cell_type": "code",
   "execution_count": 14,
   "metadata": {},
   "outputs": [
    {
     "name": "stdout",
     "output_type": "stream",
     "text": [
      "Block character ' : ' found.\n",
      "Block character ' ^ ' found.\n",
      "Block character ' & ' found.\n",
      "Block character ' - ' found.\n",
      "The following blocked characters have been found: [':', '^', '&', '-']\n"
     ]
    }
   ],
   "source": [
    "text_string = \":If you look at what you have in life, you'^ll always have more.& If you look at what you don't have in life, \\\\ you'll never have enough. -Oprah Winfrey\"\n",
    "no_char = \":&^*-~`\"\n",
    "no_char_found = []\n",
    "for char in text_string:\n",
    "      if char in no_char:\n",
    "        print(\"Block character '\", char, \"' found.\")\n",
    "        no_char_found.append(char)\n",
    "print(\"The following blocked characters have been found:\", no_char_found)"
   ]
  },
  {
   "cell_type": "code",
   "execution_count": null,
   "metadata": {
    "colab": {
     "base_uri": "https://localhost:8080/"
    },
    "id": "De45nfaPqmdV",
    "outputId": "d9e293d8-bed2-4894-bcf0-e5883db66196"
   },
   "outputs": [
    {
     "name": "stdout",
     "output_type": "stream",
     "text": [
      "I need desserts 😎\n"
     ]
    }
   ],
   "source": [
    "#4 - Slice and dice 🔪🧅\n",
    "# Extract the 'I need' from text1, '😎' emoji from text2,\n",
    "# and the word 'stressed' from text3 in REVERSE order. Can you help? Thanks 🙏\n",
    "\n",
    "text1 = \"I need a break. So much work!\"\n",
    "text2 = \"Hmm 😎 vacation would be nice... But no time 😭... always\"\n",
    "text3 = \"stressed\"\n",
    "### Fix the code below! THREE lines are needed 😀###\n",
    "first_sentence = text1[]\n",
    "cool_emoji = text2[]\n",
    "reverse_word = text3[]\n",
    "### End code fixing. No more changes needed. ### \n",
    "print(first_sentence, reverse_word, cool_emoji)"
   ]
  },
  {
   "cell_type": "code",
   "execution_count": 8,
   "metadata": {},
   "outputs": [
    {
     "name": "stdout",
     "output_type": "stream",
     "text": [
      "I need desserts 😎 \n"
     ]
    }
   ],
   "source": [
    "text1 = \"I need a break. So much work!\"\n",
    "text2 = \"Hmm 😎 vacation would be nice... But no time 😭... always\"\n",
    "text3 = \"stressed\"\n",
    "first_sentence = text1[0:6]\n",
    "cool_emoji = text2[4:6]\n",
    "reverse_word = text3[::-1]\n",
    "print(first_sentence, reverse_word, cool_emoji)"
   ]
  },
  {
   "cell_type": "markdown",
   "metadata": {
    "id": "lGYOk9dSxxUF"
   },
   "source": [
    "Copyright Benjamin J. Becerra v2022.01.30.0\n",
    "\n",
    "\n"
   ]
  }
 ],
 "metadata": {
  "colab": {
   "collapsed_sections": [],
   "name": "IST 4320 - Activity 2",
   "provenance": []
  },
  "kernelspec": {
   "display_name": "Python 3 (ipykernel)",
   "language": "python",
   "name": "python3"
  },
  "language_info": {
   "codemirror_mode": {
    "name": "ipython",
    "version": 3
   },
   "file_extension": ".py",
   "mimetype": "text/x-python",
   "name": "python",
   "nbconvert_exporter": "python",
   "pygments_lexer": "ipython3",
   "version": "3.12.4"
  }
 },
 "nbformat": 4,
 "nbformat_minor": 4
}
