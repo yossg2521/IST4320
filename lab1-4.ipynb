{
 "cells": [
  {
   "cell_type": "code",
   "execution_count": null,
   "id": "f74416a5-9ef2-4d57-877b-57d0c2049261",
   "metadata": {},
   "outputs": [],
   "source": [
    "# Question 1 \n",
    "# Make a function that inputs a float greater then one and generates a random number between 1 and the input number.\n",
    "# If the input is less then 1 then return a 0.\n",
    "# You can import the library “random” for this"
   ]
  },
  {
   "cell_type": "code",
   "execution_count": 10,
   "id": "694cb9bc",
   "metadata": {},
   "outputs": [
    {
     "name": "stdout",
     "output_type": "stream",
     "text": [
      "Your number is 0\n"
     ]
    }
   ],
   "source": [
    "# Float number input function\n",
    "def float_input():\n",
    "    user_input = float(input('Please input a float number that is greater than one to generate a random number:'))\n",
    "    if user_input > 1:\n",
    "        import random\n",
    "        print('Your number is ', random.uniform(1,user_input))\n",
    "    else:\n",
    "        print('Your number is 0')\n",
    "    return\n",
    "\n",
    "#Main Code \n",
    "float_input()\n"
   ]
  },
  {
   "cell_type": "code",
   "execution_count": 10,
   "id": "73fd79b4-6584-488e-a10e-dcc3ae571a55",
   "metadata": {},
   "outputs": [
    {
     "name": "stdout",
     "output_type": "stream",
     "text": [
      "0  5 goes into 10\n",
      "1  3 does not go into 10\n"
     ]
    }
   ],
   "source": [
    "# Question 2  \n",
    "# Make a program that asks the user for a integer. if the user inputs a non integer, keep asking the user until they give one\n",
    "# Make a function that has an input of that integer, and outputs a list of all common denominators of that integer. \n",
    "# example print(ComDenom(10)) will output [1,2,5,10], you can use the '%' operator to see if a number divides cleanly into another number\n",
    "print( 10 % 5, ' 5 goes into 10'); print(10 % 3, ' 3 does not go into 10') #hint"
   ]
  },
  {
   "cell_type": "code",
   "execution_count": 11,
   "id": "9c438818",
   "metadata": {},
   "outputs": [
    {
     "name": "stdout",
     "output_type": "stream",
     "text": [
      "The common denominators for  7 are: [1, 7]\n"
     ]
    }
   ],
   "source": [
    "# User input function\n",
    "def user_input():\n",
    "    while True:\n",
    "        try:\n",
    "            integer = int(input(\"Please input an integer: \"))\n",
    "            return integer\n",
    "        except ValueError:\n",
    "            print(\"ERROR! Please enter a valid integer: \")\n",
    "            \n",
    "# Calculating Common denominator function\n",
    "def com_denom(n):\n",
    "    list_comDenom = []\n",
    "    for i in range(1, n + 1):\n",
    "        if n % i == 0:\n",
    "            list_comDenom.append(i)\n",
    "    return list_comDenom\n",
    "\n",
    "# Main Code\n",
    "user_number = user_input()\n",
    "print(\"The common denominators for \", user_number, \"are:\", com_denom(user_number))"
   ]
  },
  {
   "cell_type": "code",
   "execution_count": null,
   "id": "4889630c-5b76-4346-bc1d-9e7ffc3ffb6b",
   "metadata": {
    "scrolled": true
   },
   "outputs": [],
   "source": [
    "# Question 3\n",
    "# make a function that inputs this list, and output a dictionary with the keys being the file types (‘folder’),\n",
    "# and the values being a list of files names (‘homework’). \n",
    "Downloads = ['run.exe', 'look_at_this_graph.png', 'something_or_other.docx', 'new_folder(4)', 'CRP.pdf', 'not_a_viris.exe', 'homework' , 'copy_of_id.png' , 'backup.exe']\n",
    "# the output should look something like {'exe' : ['run', 'not_a_viris', 'backup'], 'foulder' : ['new_folder(4)', 'homeword'], 'png' : ['look_at_this_graph', 'copy_of_id'], 'docx' : ['something_or_other']"
   ]
  },
  {
   "cell_type": "code",
   "execution_count": 8,
   "id": "ecf22641",
   "metadata": {},
   "outputs": [
    {
     "name": "stdout",
     "output_type": "stream",
     "text": [
      "{'exe': ['run.exe', 'not_a_viris.exe', 'backup.exe'], 'png': ['look_at_this_graph.png', 'copy_of_id.png'], 'docx': ['something_or_other.docx'], 'random folder': ['new_folder(4)', 'homework'], 'pdf': ['CRP.pdf']}\n"
     ]
    }
   ],
   "source": [
    "# List to dictionary function\n",
    "def list_to_dict(file_list):\n",
    "    list_dict = {}\n",
    "\n",
    "    for file in file_list:\n",
    "        if \".\" in file:\n",
    "            file_type = file.split('.')[-1]\n",
    "        else:\n",
    "            file_type = 'random folder'\n",
    "        \n",
    "        if file_type not in list_dict:\n",
    "            list_dict[file_type] =[]\n",
    "        \n",
    "        list_dict[file_type].append(file)\n",
    "    \n",
    "    return list_dict\n",
    "\n",
    "# Downloads file list\n",
    "Downloads = ['run.exe', 'look_at_this_graph.png', 'something_or_other.docx', 'new_folder(4)', 'CRP.pdf', 'not_a_viris.exe', 'homework' , 'copy_of_id.png' , 'backup.exe']\n",
    "\n",
    "# Main code\n",
    "dictionary = list_to_dict(Downloads)\n",
    "print(dictionary)\n"
   ]
  },
  {
   "cell_type": "code",
   "execution_count": null,
   "id": "e2f7190a-fdb4-4a1c-9d53-ca9ccea92f0f",
   "metadata": {},
   "outputs": [],
   "source": [
    "# question 4 \n",
    "# Make a annoying program that asks for the user to Shout out how they are feeling.\n",
    "# If the user's input is not in all caps. Tell the user to yell it like they mean it.\n",
    "# keep asking until the input is a string in all caps. \n",
    "\n"
   ]
  },
  {
   "cell_type": "code",
   "execution_count": 3,
   "id": "ecd6dfc6",
   "metadata": {},
   "outputs": [
    {
     "name": "stdout",
     "output_type": "stream",
     "text": [
      "Wow! Thanks for sharing how you're feeling!\n"
     ]
    }
   ],
   "source": [
    "# Annoying program function\n",
    "def shout_feelings():\n",
    "    while True:\n",
    "        userFeeling = str(input('Please SHOUT OUT how you are feeling today:'))\n",
    "        if userFeeling.isupper():\n",
    "            print(\"Wow! Thanks for sharing how you're feeling!\")\n",
    "            break\n",
    "        else:\n",
    "            userFeeling = str(input(\"Yell it like you mean it!:\"))\n",
    "    return\n",
    "\n",
    "# Main Code\n",
    "shout_feelings()\n"
   ]
  }
 ],
 "metadata": {
  "kernelspec": {
   "display_name": "Python 3 (ipykernel)",
   "language": "python",
   "name": "python3"
  },
  "language_info": {
   "codemirror_mode": {
    "name": "ipython",
    "version": 3
   },
   "file_extension": ".py",
   "mimetype": "text/x-python",
   "name": "python",
   "nbconvert_exporter": "python",
   "pygments_lexer": "ipython3",
   "version": "3.12.4"
  }
 },
 "nbformat": 4,
 "nbformat_minor": 5
}
